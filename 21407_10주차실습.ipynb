{
  "nbformat": 4,
  "nbformat_minor": 0,
  "metadata": {
    "colab": {
      "name": "21407_10주차실습.ipynb",
      "provenance": [],
      "authorship_tag": "ABX9TyPh6+bfBINO0e7d9ScbdKCR",
      "include_colab_link": true
    },
    "kernelspec": {
      "name": "python3",
      "display_name": "Python 3"
    },
    "language_info": {
      "name": "python"
    }
  },
  "cells": [
    {
      "cell_type": "markdown",
      "metadata": {
        "id": "view-in-github",
        "colab_type": "text"
      },
      "source": [
        "<a href=\"https://colab.research.google.com/github/qkrtkddls135/bmt_python/blob/main/21407_10%EC%A3%BC%EC%B0%A8%EC%8B%A4%EC%8A%B5.ipynb\" target=\"_parent\"><img src=\"https://colab.research.google.com/assets/colab-badge.svg\" alt=\"Open In Colab\"/></a>"
      ]
    },
    {
      "cell_type": "code",
      "metadata": {
        "id": "SQjit9aGfaUO"
      },
      "source": [
        "import pandas as pd\n",
        "import numpy as np\n",
        "import matplotlib.pyplot as plt"
      ],
      "execution_count": 8,
      "outputs": []
    },
    {
      "cell_type": "code",
      "metadata": {
        "id": "SiYWySEQij1P"
      },
      "source": [
        "row = pd.date_range( '20210507', periods=6 )\n",
        "col = list('ABCD')\n",
        "df = pd.DataFrame(np.random.randn(6,4), index=row, columns=col)"
      ],
      "execution_count": 9,
      "outputs": []
    },
    {
      "cell_type": "code",
      "metadata": {
        "colab": {
          "base_uri": "https://localhost:8080/",
          "height": 225
        },
        "id": "cxk_2xT9ivl-",
        "outputId": "0119b5c2-df47-456c-ab14-7e9ad9bed515"
      },
      "source": [
        "df"
      ],
      "execution_count": 10,
      "outputs": [
        {
          "output_type": "execute_result",
          "data": {
            "text/html": [
              "<div>\n",
              "<style scoped>\n",
              "    .dataframe tbody tr th:only-of-type {\n",
              "        vertical-align: middle;\n",
              "    }\n",
              "\n",
              "    .dataframe tbody tr th {\n",
              "        vertical-align: top;\n",
              "    }\n",
              "\n",
              "    .dataframe thead th {\n",
              "        text-align: right;\n",
              "    }\n",
              "</style>\n",
              "<table border=\"1\" class=\"dataframe\">\n",
              "  <thead>\n",
              "    <tr style=\"text-align: right;\">\n",
              "      <th></th>\n",
              "      <th>A</th>\n",
              "      <th>B</th>\n",
              "      <th>C</th>\n",
              "      <th>D</th>\n",
              "    </tr>\n",
              "  </thead>\n",
              "  <tbody>\n",
              "    <tr>\n",
              "      <th>2021-05-07</th>\n",
              "      <td>-1.219006</td>\n",
              "      <td>-0.682459</td>\n",
              "      <td>-0.571513</td>\n",
              "      <td>-0.176445</td>\n",
              "    </tr>\n",
              "    <tr>\n",
              "      <th>2021-05-08</th>\n",
              "      <td>-0.410936</td>\n",
              "      <td>0.616931</td>\n",
              "      <td>0.222044</td>\n",
              "      <td>0.383838</td>\n",
              "    </tr>\n",
              "    <tr>\n",
              "      <th>2021-05-09</th>\n",
              "      <td>0.496586</td>\n",
              "      <td>0.133079</td>\n",
              "      <td>-0.862439</td>\n",
              "      <td>-0.218478</td>\n",
              "    </tr>\n",
              "    <tr>\n",
              "      <th>2021-05-10</th>\n",
              "      <td>-2.224439</td>\n",
              "      <td>-1.045218</td>\n",
              "      <td>0.202574</td>\n",
              "      <td>-0.926492</td>\n",
              "    </tr>\n",
              "    <tr>\n",
              "      <th>2021-05-11</th>\n",
              "      <td>1.136660</td>\n",
              "      <td>-0.031536</td>\n",
              "      <td>-0.220475</td>\n",
              "      <td>-0.735769</td>\n",
              "    </tr>\n",
              "    <tr>\n",
              "      <th>2021-05-12</th>\n",
              "      <td>-1.905682</td>\n",
              "      <td>-0.061195</td>\n",
              "      <td>0.265365</td>\n",
              "      <td>0.232477</td>\n",
              "    </tr>\n",
              "  </tbody>\n",
              "</table>\n",
              "</div>"
            ],
            "text/plain": [
              "                   A         B         C         D\n",
              "2021-05-07 -1.219006 -0.682459 -0.571513 -0.176445\n",
              "2021-05-08 -0.410936  0.616931  0.222044  0.383838\n",
              "2021-05-09  0.496586  0.133079 -0.862439 -0.218478\n",
              "2021-05-10 -2.224439 -1.045218  0.202574 -0.926492\n",
              "2021-05-11  1.136660 -0.031536 -0.220475 -0.735769\n",
              "2021-05-12 -1.905682 -0.061195  0.265365  0.232477"
            ]
          },
          "metadata": {
            "tags": []
          },
          "execution_count": 10
        }
      ]
    },
    {
      "cell_type": "code",
      "metadata": {
        "id": "dBYv26kpjT4t"
      },
      "source": [
        "s1 = pd.Series([1,2,3,4,5,6], index = pd.date_range('20210507', periods=6))"
      ],
      "execution_count": 11,
      "outputs": []
    },
    {
      "cell_type": "code",
      "metadata": {
        "id": "2ghefx1tmLTV"
      },
      "source": [
        "df['F'] = s1"
      ],
      "execution_count": 12,
      "outputs": []
    },
    {
      "cell_type": "code",
      "metadata": {
        "colab": {
          "base_uri": "https://localhost:8080/",
          "height": 225
        },
        "id": "kl3C-duPmP6L",
        "outputId": "0f1c1b86-1d02-4e4b-9de0-f7dfbb94598f"
      },
      "source": [
        "df"
      ],
      "execution_count": 13,
      "outputs": [
        {
          "output_type": "execute_result",
          "data": {
            "text/html": [
              "<div>\n",
              "<style scoped>\n",
              "    .dataframe tbody tr th:only-of-type {\n",
              "        vertical-align: middle;\n",
              "    }\n",
              "\n",
              "    .dataframe tbody tr th {\n",
              "        vertical-align: top;\n",
              "    }\n",
              "\n",
              "    .dataframe thead th {\n",
              "        text-align: right;\n",
              "    }\n",
              "</style>\n",
              "<table border=\"1\" class=\"dataframe\">\n",
              "  <thead>\n",
              "    <tr style=\"text-align: right;\">\n",
              "      <th></th>\n",
              "      <th>A</th>\n",
              "      <th>B</th>\n",
              "      <th>C</th>\n",
              "      <th>D</th>\n",
              "      <th>F</th>\n",
              "    </tr>\n",
              "  </thead>\n",
              "  <tbody>\n",
              "    <tr>\n",
              "      <th>2021-05-07</th>\n",
              "      <td>-1.219006</td>\n",
              "      <td>-0.682459</td>\n",
              "      <td>-0.571513</td>\n",
              "      <td>-0.176445</td>\n",
              "      <td>1</td>\n",
              "    </tr>\n",
              "    <tr>\n",
              "      <th>2021-05-08</th>\n",
              "      <td>-0.410936</td>\n",
              "      <td>0.616931</td>\n",
              "      <td>0.222044</td>\n",
              "      <td>0.383838</td>\n",
              "      <td>2</td>\n",
              "    </tr>\n",
              "    <tr>\n",
              "      <th>2021-05-09</th>\n",
              "      <td>0.496586</td>\n",
              "      <td>0.133079</td>\n",
              "      <td>-0.862439</td>\n",
              "      <td>-0.218478</td>\n",
              "      <td>3</td>\n",
              "    </tr>\n",
              "    <tr>\n",
              "      <th>2021-05-10</th>\n",
              "      <td>-2.224439</td>\n",
              "      <td>-1.045218</td>\n",
              "      <td>0.202574</td>\n",
              "      <td>-0.926492</td>\n",
              "      <td>4</td>\n",
              "    </tr>\n",
              "    <tr>\n",
              "      <th>2021-05-11</th>\n",
              "      <td>1.136660</td>\n",
              "      <td>-0.031536</td>\n",
              "      <td>-0.220475</td>\n",
              "      <td>-0.735769</td>\n",
              "      <td>5</td>\n",
              "    </tr>\n",
              "    <tr>\n",
              "      <th>2021-05-12</th>\n",
              "      <td>-1.905682</td>\n",
              "      <td>-0.061195</td>\n",
              "      <td>0.265365</td>\n",
              "      <td>0.232477</td>\n",
              "      <td>6</td>\n",
              "    </tr>\n",
              "  </tbody>\n",
              "</table>\n",
              "</div>"
            ],
            "text/plain": [
              "                   A         B         C         D  F\n",
              "2021-05-07 -1.219006 -0.682459 -0.571513 -0.176445  1\n",
              "2021-05-08 -0.410936  0.616931  0.222044  0.383838  2\n",
              "2021-05-09  0.496586  0.133079 -0.862439 -0.218478  3\n",
              "2021-05-10 -2.224439 -1.045218  0.202574 -0.926492  4\n",
              "2021-05-11  1.136660 -0.031536 -0.220475 -0.735769  5\n",
              "2021-05-12 -1.905682 -0.061195  0.265365  0.232477  6"
            ]
          },
          "metadata": {
            "tags": []
          },
          "execution_count": 13
        }
      ]
    },
    {
      "cell_type": "code",
      "metadata": {
        "colab": {
          "base_uri": "https://localhost:8080/",
          "height": 225
        },
        "id": "LDdceaG6mQt7",
        "outputId": "2e5ad9b3-eab8-400d-f5eb-33344faedc62"
      },
      "source": [
        "df>0"
      ],
      "execution_count": 14,
      "outputs": [
        {
          "output_type": "execute_result",
          "data": {
            "text/html": [
              "<div>\n",
              "<style scoped>\n",
              "    .dataframe tbody tr th:only-of-type {\n",
              "        vertical-align: middle;\n",
              "    }\n",
              "\n",
              "    .dataframe tbody tr th {\n",
              "        vertical-align: top;\n",
              "    }\n",
              "\n",
              "    .dataframe thead th {\n",
              "        text-align: right;\n",
              "    }\n",
              "</style>\n",
              "<table border=\"1\" class=\"dataframe\">\n",
              "  <thead>\n",
              "    <tr style=\"text-align: right;\">\n",
              "      <th></th>\n",
              "      <th>A</th>\n",
              "      <th>B</th>\n",
              "      <th>C</th>\n",
              "      <th>D</th>\n",
              "      <th>F</th>\n",
              "    </tr>\n",
              "  </thead>\n",
              "  <tbody>\n",
              "    <tr>\n",
              "      <th>2021-05-07</th>\n",
              "      <td>False</td>\n",
              "      <td>False</td>\n",
              "      <td>False</td>\n",
              "      <td>False</td>\n",
              "      <td>True</td>\n",
              "    </tr>\n",
              "    <tr>\n",
              "      <th>2021-05-08</th>\n",
              "      <td>False</td>\n",
              "      <td>True</td>\n",
              "      <td>True</td>\n",
              "      <td>True</td>\n",
              "      <td>True</td>\n",
              "    </tr>\n",
              "    <tr>\n",
              "      <th>2021-05-09</th>\n",
              "      <td>True</td>\n",
              "      <td>True</td>\n",
              "      <td>False</td>\n",
              "      <td>False</td>\n",
              "      <td>True</td>\n",
              "    </tr>\n",
              "    <tr>\n",
              "      <th>2021-05-10</th>\n",
              "      <td>False</td>\n",
              "      <td>False</td>\n",
              "      <td>True</td>\n",
              "      <td>False</td>\n",
              "      <td>True</td>\n",
              "    </tr>\n",
              "    <tr>\n",
              "      <th>2021-05-11</th>\n",
              "      <td>True</td>\n",
              "      <td>False</td>\n",
              "      <td>False</td>\n",
              "      <td>False</td>\n",
              "      <td>True</td>\n",
              "    </tr>\n",
              "    <tr>\n",
              "      <th>2021-05-12</th>\n",
              "      <td>False</td>\n",
              "      <td>False</td>\n",
              "      <td>True</td>\n",
              "      <td>True</td>\n",
              "      <td>True</td>\n",
              "    </tr>\n",
              "  </tbody>\n",
              "</table>\n",
              "</div>"
            ],
            "text/plain": [
              "                A      B      C      D     F\n",
              "2021-05-07  False  False  False  False  True\n",
              "2021-05-08  False   True   True   True  True\n",
              "2021-05-09   True   True  False  False  True\n",
              "2021-05-10  False  False   True  False  True\n",
              "2021-05-11   True  False  False  False  True\n",
              "2021-05-12  False  False   True   True  True"
            ]
          },
          "metadata": {
            "tags": []
          },
          "execution_count": 14
        }
      ]
    },
    {
      "cell_type": "code",
      "metadata": {
        "colab": {
          "base_uri": "https://localhost:8080/",
          "height": 225
        },
        "id": "JRqV8FGamaeb",
        "outputId": "e9fc127f-c095-4c64-ce5b-12f5791a3777"
      },
      "source": [
        "df[df>0]"
      ],
      "execution_count": 15,
      "outputs": [
        {
          "output_type": "execute_result",
          "data": {
            "text/html": [
              "<div>\n",
              "<style scoped>\n",
              "    .dataframe tbody tr th:only-of-type {\n",
              "        vertical-align: middle;\n",
              "    }\n",
              "\n",
              "    .dataframe tbody tr th {\n",
              "        vertical-align: top;\n",
              "    }\n",
              "\n",
              "    .dataframe thead th {\n",
              "        text-align: right;\n",
              "    }\n",
              "</style>\n",
              "<table border=\"1\" class=\"dataframe\">\n",
              "  <thead>\n",
              "    <tr style=\"text-align: right;\">\n",
              "      <th></th>\n",
              "      <th>A</th>\n",
              "      <th>B</th>\n",
              "      <th>C</th>\n",
              "      <th>D</th>\n",
              "      <th>F</th>\n",
              "    </tr>\n",
              "  </thead>\n",
              "  <tbody>\n",
              "    <tr>\n",
              "      <th>2021-05-07</th>\n",
              "      <td>NaN</td>\n",
              "      <td>NaN</td>\n",
              "      <td>NaN</td>\n",
              "      <td>NaN</td>\n",
              "      <td>1</td>\n",
              "    </tr>\n",
              "    <tr>\n",
              "      <th>2021-05-08</th>\n",
              "      <td>NaN</td>\n",
              "      <td>0.616931</td>\n",
              "      <td>0.222044</td>\n",
              "      <td>0.383838</td>\n",
              "      <td>2</td>\n",
              "    </tr>\n",
              "    <tr>\n",
              "      <th>2021-05-09</th>\n",
              "      <td>0.496586</td>\n",
              "      <td>0.133079</td>\n",
              "      <td>NaN</td>\n",
              "      <td>NaN</td>\n",
              "      <td>3</td>\n",
              "    </tr>\n",
              "    <tr>\n",
              "      <th>2021-05-10</th>\n",
              "      <td>NaN</td>\n",
              "      <td>NaN</td>\n",
              "      <td>0.202574</td>\n",
              "      <td>NaN</td>\n",
              "      <td>4</td>\n",
              "    </tr>\n",
              "    <tr>\n",
              "      <th>2021-05-11</th>\n",
              "      <td>1.136660</td>\n",
              "      <td>NaN</td>\n",
              "      <td>NaN</td>\n",
              "      <td>NaN</td>\n",
              "      <td>5</td>\n",
              "    </tr>\n",
              "    <tr>\n",
              "      <th>2021-05-12</th>\n",
              "      <td>NaN</td>\n",
              "      <td>NaN</td>\n",
              "      <td>0.265365</td>\n",
              "      <td>0.232477</td>\n",
              "      <td>6</td>\n",
              "    </tr>\n",
              "  </tbody>\n",
              "</table>\n",
              "</div>"
            ],
            "text/plain": [
              "                   A         B         C         D  F\n",
              "2021-05-07       NaN       NaN       NaN       NaN  1\n",
              "2021-05-08       NaN  0.616931  0.222044  0.383838  2\n",
              "2021-05-09  0.496586  0.133079       NaN       NaN  3\n",
              "2021-05-10       NaN       NaN  0.202574       NaN  4\n",
              "2021-05-11  1.136660       NaN       NaN       NaN  5\n",
              "2021-05-12       NaN       NaN  0.265365  0.232477  6"
            ]
          },
          "metadata": {
            "tags": []
          },
          "execution_count": 15
        }
      ]
    },
    {
      "cell_type": "code",
      "metadata": {
        "id": "b4xKymUMmgTL"
      },
      "source": [
        "df2=df.copy()"
      ],
      "execution_count": 16,
      "outputs": []
    },
    {
      "cell_type": "code",
      "metadata": {
        "colab": {
          "base_uri": "https://localhost:8080/",
          "height": 225
        },
        "id": "B61-nwDBmqWK",
        "outputId": "d471d93d-937b-4c67-c658-a79609928054"
      },
      "source": [
        "df2[df2>0]"
      ],
      "execution_count": 17,
      "outputs": [
        {
          "output_type": "execute_result",
          "data": {
            "text/html": [
              "<div>\n",
              "<style scoped>\n",
              "    .dataframe tbody tr th:only-of-type {\n",
              "        vertical-align: middle;\n",
              "    }\n",
              "\n",
              "    .dataframe tbody tr th {\n",
              "        vertical-align: top;\n",
              "    }\n",
              "\n",
              "    .dataframe thead th {\n",
              "        text-align: right;\n",
              "    }\n",
              "</style>\n",
              "<table border=\"1\" class=\"dataframe\">\n",
              "  <thead>\n",
              "    <tr style=\"text-align: right;\">\n",
              "      <th></th>\n",
              "      <th>A</th>\n",
              "      <th>B</th>\n",
              "      <th>C</th>\n",
              "      <th>D</th>\n",
              "      <th>F</th>\n",
              "    </tr>\n",
              "  </thead>\n",
              "  <tbody>\n",
              "    <tr>\n",
              "      <th>2021-05-07</th>\n",
              "      <td>NaN</td>\n",
              "      <td>NaN</td>\n",
              "      <td>NaN</td>\n",
              "      <td>NaN</td>\n",
              "      <td>1</td>\n",
              "    </tr>\n",
              "    <tr>\n",
              "      <th>2021-05-08</th>\n",
              "      <td>NaN</td>\n",
              "      <td>0.616931</td>\n",
              "      <td>0.222044</td>\n",
              "      <td>0.383838</td>\n",
              "      <td>2</td>\n",
              "    </tr>\n",
              "    <tr>\n",
              "      <th>2021-05-09</th>\n",
              "      <td>0.496586</td>\n",
              "      <td>0.133079</td>\n",
              "      <td>NaN</td>\n",
              "      <td>NaN</td>\n",
              "      <td>3</td>\n",
              "    </tr>\n",
              "    <tr>\n",
              "      <th>2021-05-10</th>\n",
              "      <td>NaN</td>\n",
              "      <td>NaN</td>\n",
              "      <td>0.202574</td>\n",
              "      <td>NaN</td>\n",
              "      <td>4</td>\n",
              "    </tr>\n",
              "    <tr>\n",
              "      <th>2021-05-11</th>\n",
              "      <td>1.136660</td>\n",
              "      <td>NaN</td>\n",
              "      <td>NaN</td>\n",
              "      <td>NaN</td>\n",
              "      <td>5</td>\n",
              "    </tr>\n",
              "    <tr>\n",
              "      <th>2021-05-12</th>\n",
              "      <td>NaN</td>\n",
              "      <td>NaN</td>\n",
              "      <td>0.265365</td>\n",
              "      <td>0.232477</td>\n",
              "      <td>6</td>\n",
              "    </tr>\n",
              "  </tbody>\n",
              "</table>\n",
              "</div>"
            ],
            "text/plain": [
              "                   A         B         C         D  F\n",
              "2021-05-07       NaN       NaN       NaN       NaN  1\n",
              "2021-05-08       NaN  0.616931  0.222044  0.383838  2\n",
              "2021-05-09  0.496586  0.133079       NaN       NaN  3\n",
              "2021-05-10       NaN       NaN  0.202574       NaN  4\n",
              "2021-05-11  1.136660       NaN       NaN       NaN  5\n",
              "2021-05-12       NaN       NaN  0.265365  0.232477  6"
            ]
          },
          "metadata": {
            "tags": []
          },
          "execution_count": 17
        }
      ]
    },
    {
      "cell_type": "code",
      "metadata": {
        "id": "9Me3QcP-m1_L"
      },
      "source": [
        "df2[df2>0] = -df"
      ],
      "execution_count": 18,
      "outputs": []
    },
    {
      "cell_type": "code",
      "metadata": {
        "colab": {
          "base_uri": "https://localhost:8080/",
          "height": 225
        },
        "id": "NlJbWB66m6ir",
        "outputId": "703415db-466d-4038-9c90-d3faae6d94a6"
      },
      "source": [
        "df2"
      ],
      "execution_count": 19,
      "outputs": [
        {
          "output_type": "execute_result",
          "data": {
            "text/html": [
              "<div>\n",
              "<style scoped>\n",
              "    .dataframe tbody tr th:only-of-type {\n",
              "        vertical-align: middle;\n",
              "    }\n",
              "\n",
              "    .dataframe tbody tr th {\n",
              "        vertical-align: top;\n",
              "    }\n",
              "\n",
              "    .dataframe thead th {\n",
              "        text-align: right;\n",
              "    }\n",
              "</style>\n",
              "<table border=\"1\" class=\"dataframe\">\n",
              "  <thead>\n",
              "    <tr style=\"text-align: right;\">\n",
              "      <th></th>\n",
              "      <th>A</th>\n",
              "      <th>B</th>\n",
              "      <th>C</th>\n",
              "      <th>D</th>\n",
              "      <th>F</th>\n",
              "    </tr>\n",
              "  </thead>\n",
              "  <tbody>\n",
              "    <tr>\n",
              "      <th>2021-05-07</th>\n",
              "      <td>-1.219006</td>\n",
              "      <td>-0.682459</td>\n",
              "      <td>-0.571513</td>\n",
              "      <td>-0.176445</td>\n",
              "      <td>-1</td>\n",
              "    </tr>\n",
              "    <tr>\n",
              "      <th>2021-05-08</th>\n",
              "      <td>-0.410936</td>\n",
              "      <td>-0.616931</td>\n",
              "      <td>-0.222044</td>\n",
              "      <td>-0.383838</td>\n",
              "      <td>-2</td>\n",
              "    </tr>\n",
              "    <tr>\n",
              "      <th>2021-05-09</th>\n",
              "      <td>-0.496586</td>\n",
              "      <td>-0.133079</td>\n",
              "      <td>-0.862439</td>\n",
              "      <td>-0.218478</td>\n",
              "      <td>-3</td>\n",
              "    </tr>\n",
              "    <tr>\n",
              "      <th>2021-05-10</th>\n",
              "      <td>-2.224439</td>\n",
              "      <td>-1.045218</td>\n",
              "      <td>-0.202574</td>\n",
              "      <td>-0.926492</td>\n",
              "      <td>-4</td>\n",
              "    </tr>\n",
              "    <tr>\n",
              "      <th>2021-05-11</th>\n",
              "      <td>-1.136660</td>\n",
              "      <td>-0.031536</td>\n",
              "      <td>-0.220475</td>\n",
              "      <td>-0.735769</td>\n",
              "      <td>-5</td>\n",
              "    </tr>\n",
              "    <tr>\n",
              "      <th>2021-05-12</th>\n",
              "      <td>-1.905682</td>\n",
              "      <td>-0.061195</td>\n",
              "      <td>-0.265365</td>\n",
              "      <td>-0.232477</td>\n",
              "      <td>-6</td>\n",
              "    </tr>\n",
              "  </tbody>\n",
              "</table>\n",
              "</div>"
            ],
            "text/plain": [
              "                   A         B         C         D  F\n",
              "2021-05-07 -1.219006 -0.682459 -0.571513 -0.176445 -1\n",
              "2021-05-08 -0.410936 -0.616931 -0.222044 -0.383838 -2\n",
              "2021-05-09 -0.496586 -0.133079 -0.862439 -0.218478 -3\n",
              "2021-05-10 -2.224439 -1.045218 -0.202574 -0.926492 -4\n",
              "2021-05-11 -1.136660 -0.031536 -0.220475 -0.735769 -5\n",
              "2021-05-12 -1.905682 -0.061195 -0.265365 -0.232477 -6"
            ]
          },
          "metadata": {
            "tags": []
          },
          "execution_count": 19
        }
      ]
    },
    {
      "cell_type": "code",
      "metadata": {
        "colab": {
          "base_uri": "https://localhost:8080/",
          "height": 225
        },
        "id": "X5ad1EMYm7ha",
        "outputId": "4c5cd292-4097-4128-b353-3019c4c5c9d7"
      },
      "source": [
        "df"
      ],
      "execution_count": 20,
      "outputs": [
        {
          "output_type": "execute_result",
          "data": {
            "text/html": [
              "<div>\n",
              "<style scoped>\n",
              "    .dataframe tbody tr th:only-of-type {\n",
              "        vertical-align: middle;\n",
              "    }\n",
              "\n",
              "    .dataframe tbody tr th {\n",
              "        vertical-align: top;\n",
              "    }\n",
              "\n",
              "    .dataframe thead th {\n",
              "        text-align: right;\n",
              "    }\n",
              "</style>\n",
              "<table border=\"1\" class=\"dataframe\">\n",
              "  <thead>\n",
              "    <tr style=\"text-align: right;\">\n",
              "      <th></th>\n",
              "      <th>A</th>\n",
              "      <th>B</th>\n",
              "      <th>C</th>\n",
              "      <th>D</th>\n",
              "      <th>F</th>\n",
              "    </tr>\n",
              "  </thead>\n",
              "  <tbody>\n",
              "    <tr>\n",
              "      <th>2021-05-07</th>\n",
              "      <td>-1.219006</td>\n",
              "      <td>-0.682459</td>\n",
              "      <td>-0.571513</td>\n",
              "      <td>-0.176445</td>\n",
              "      <td>1</td>\n",
              "    </tr>\n",
              "    <tr>\n",
              "      <th>2021-05-08</th>\n",
              "      <td>-0.410936</td>\n",
              "      <td>0.616931</td>\n",
              "      <td>0.222044</td>\n",
              "      <td>0.383838</td>\n",
              "      <td>2</td>\n",
              "    </tr>\n",
              "    <tr>\n",
              "      <th>2021-05-09</th>\n",
              "      <td>0.496586</td>\n",
              "      <td>0.133079</td>\n",
              "      <td>-0.862439</td>\n",
              "      <td>-0.218478</td>\n",
              "      <td>3</td>\n",
              "    </tr>\n",
              "    <tr>\n",
              "      <th>2021-05-10</th>\n",
              "      <td>-2.224439</td>\n",
              "      <td>-1.045218</td>\n",
              "      <td>0.202574</td>\n",
              "      <td>-0.926492</td>\n",
              "      <td>4</td>\n",
              "    </tr>\n",
              "    <tr>\n",
              "      <th>2021-05-11</th>\n",
              "      <td>1.136660</td>\n",
              "      <td>-0.031536</td>\n",
              "      <td>-0.220475</td>\n",
              "      <td>-0.735769</td>\n",
              "      <td>5</td>\n",
              "    </tr>\n",
              "    <tr>\n",
              "      <th>2021-05-12</th>\n",
              "      <td>-1.905682</td>\n",
              "      <td>-0.061195</td>\n",
              "      <td>0.265365</td>\n",
              "      <td>0.232477</td>\n",
              "      <td>6</td>\n",
              "    </tr>\n",
              "  </tbody>\n",
              "</table>\n",
              "</div>"
            ],
            "text/plain": [
              "                   A         B         C         D  F\n",
              "2021-05-07 -1.219006 -0.682459 -0.571513 -0.176445  1\n",
              "2021-05-08 -0.410936  0.616931  0.222044  0.383838  2\n",
              "2021-05-09  0.496586  0.133079 -0.862439 -0.218478  3\n",
              "2021-05-10 -2.224439 -1.045218  0.202574 -0.926492  4\n",
              "2021-05-11  1.136660 -0.031536 -0.220475 -0.735769  5\n",
              "2021-05-12 -1.905682 -0.061195  0.265365  0.232477  6"
            ]
          },
          "metadata": {
            "tags": []
          },
          "execution_count": 20
        }
      ]
    },
    {
      "cell_type": "code",
      "metadata": {
        "colab": {
          "base_uri": "https://localhost:8080/"
        },
        "id": "uqhTfCqcno3J",
        "outputId": "d668efe3-5637-4007-b657-1768faba9b03"
      },
      "source": [
        "df.mean()"
      ],
      "execution_count": 21,
      "outputs": [
        {
          "output_type": "execute_result",
          "data": {
            "text/plain": [
              "A   -0.687803\n",
              "B   -0.178399\n",
              "C   -0.160741\n",
              "D   -0.240145\n",
              "F    3.500000\n",
              "dtype: float64"
            ]
          },
          "metadata": {
            "tags": []
          },
          "execution_count": 21
        }
      ]
    },
    {
      "cell_type": "code",
      "metadata": {
        "colab": {
          "base_uri": "https://localhost:8080/"
        },
        "id": "EDxsbWlNnvEq",
        "outputId": "fa581c77-110f-4429-c74a-47fad3e7dd43"
      },
      "source": [
        "df.mean(1)"
      ],
      "execution_count": 22,
      "outputs": [
        {
          "output_type": "execute_result",
          "data": {
            "text/plain": [
              "2021-05-07   -0.329885\n",
              "2021-05-08    0.562375\n",
              "2021-05-09    0.509750\n",
              "2021-05-10    0.001285\n",
              "2021-05-11    1.029776\n",
              "2021-05-12    0.906193\n",
              "Freq: D, dtype: float64"
            ]
          },
          "metadata": {
            "tags": []
          },
          "execution_count": 22
        }
      ]
    },
    {
      "cell_type": "code",
      "metadata": {
        "colab": {
          "base_uri": "https://localhost:8080/",
          "height": 225
        },
        "id": "0sWJ0OUUoOap",
        "outputId": "83d46f37-c9e0-4b9d-bf12-b1b71dae3273"
      },
      "source": [
        "df.apply(np.cumsum)"
      ],
      "execution_count": 24,
      "outputs": [
        {
          "output_type": "execute_result",
          "data": {
            "text/html": [
              "<div>\n",
              "<style scoped>\n",
              "    .dataframe tbody tr th:only-of-type {\n",
              "        vertical-align: middle;\n",
              "    }\n",
              "\n",
              "    .dataframe tbody tr th {\n",
              "        vertical-align: top;\n",
              "    }\n",
              "\n",
              "    .dataframe thead th {\n",
              "        text-align: right;\n",
              "    }\n",
              "</style>\n",
              "<table border=\"1\" class=\"dataframe\">\n",
              "  <thead>\n",
              "    <tr style=\"text-align: right;\">\n",
              "      <th></th>\n",
              "      <th>A</th>\n",
              "      <th>B</th>\n",
              "      <th>C</th>\n",
              "      <th>D</th>\n",
              "      <th>F</th>\n",
              "    </tr>\n",
              "  </thead>\n",
              "  <tbody>\n",
              "    <tr>\n",
              "      <th>2021-05-07</th>\n",
              "      <td>-1.219006</td>\n",
              "      <td>-0.682459</td>\n",
              "      <td>-0.571513</td>\n",
              "      <td>-0.176445</td>\n",
              "      <td>1</td>\n",
              "    </tr>\n",
              "    <tr>\n",
              "      <th>2021-05-08</th>\n",
              "      <td>-1.629942</td>\n",
              "      <td>-0.065528</td>\n",
              "      <td>-0.349469</td>\n",
              "      <td>0.207392</td>\n",
              "      <td>3</td>\n",
              "    </tr>\n",
              "    <tr>\n",
              "      <th>2021-05-09</th>\n",
              "      <td>-1.133356</td>\n",
              "      <td>0.067552</td>\n",
              "      <td>-1.211908</td>\n",
              "      <td>-0.011086</td>\n",
              "      <td>6</td>\n",
              "    </tr>\n",
              "    <tr>\n",
              "      <th>2021-05-10</th>\n",
              "      <td>-3.357795</td>\n",
              "      <td>-0.977666</td>\n",
              "      <td>-1.009334</td>\n",
              "      <td>-0.937578</td>\n",
              "      <td>10</td>\n",
              "    </tr>\n",
              "    <tr>\n",
              "      <th>2021-05-11</th>\n",
              "      <td>-2.221135</td>\n",
              "      <td>-1.009202</td>\n",
              "      <td>-1.229810</td>\n",
              "      <td>-1.673347</td>\n",
              "      <td>15</td>\n",
              "    </tr>\n",
              "    <tr>\n",
              "      <th>2021-05-12</th>\n",
              "      <td>-4.126818</td>\n",
              "      <td>-1.070396</td>\n",
              "      <td>-0.964445</td>\n",
              "      <td>-1.440870</td>\n",
              "      <td>21</td>\n",
              "    </tr>\n",
              "  </tbody>\n",
              "</table>\n",
              "</div>"
            ],
            "text/plain": [
              "                   A         B         C         D   F\n",
              "2021-05-07 -1.219006 -0.682459 -0.571513 -0.176445   1\n",
              "2021-05-08 -1.629942 -0.065528 -0.349469  0.207392   3\n",
              "2021-05-09 -1.133356  0.067552 -1.211908 -0.011086   6\n",
              "2021-05-10 -3.357795 -0.977666 -1.009334 -0.937578  10\n",
              "2021-05-11 -2.221135 -1.009202 -1.229810 -1.673347  15\n",
              "2021-05-12 -4.126818 -1.070396 -0.964445 -1.440870  21"
            ]
          },
          "metadata": {
            "tags": []
          },
          "execution_count": 24
        }
      ]
    },
    {
      "cell_type": "code",
      "metadata": {
        "colab": {
          "base_uri": "https://localhost:8080/",
          "height": 225
        },
        "id": "88ajNj3XoxAJ",
        "outputId": "2cc28cd5-2439-4dab-936d-0ff613d8769b"
      },
      "source": [
        "df"
      ],
      "execution_count": 25,
      "outputs": [
        {
          "output_type": "execute_result",
          "data": {
            "text/html": [
              "<div>\n",
              "<style scoped>\n",
              "    .dataframe tbody tr th:only-of-type {\n",
              "        vertical-align: middle;\n",
              "    }\n",
              "\n",
              "    .dataframe tbody tr th {\n",
              "        vertical-align: top;\n",
              "    }\n",
              "\n",
              "    .dataframe thead th {\n",
              "        text-align: right;\n",
              "    }\n",
              "</style>\n",
              "<table border=\"1\" class=\"dataframe\">\n",
              "  <thead>\n",
              "    <tr style=\"text-align: right;\">\n",
              "      <th></th>\n",
              "      <th>A</th>\n",
              "      <th>B</th>\n",
              "      <th>C</th>\n",
              "      <th>D</th>\n",
              "      <th>F</th>\n",
              "    </tr>\n",
              "  </thead>\n",
              "  <tbody>\n",
              "    <tr>\n",
              "      <th>2021-05-07</th>\n",
              "      <td>-1.219006</td>\n",
              "      <td>-0.682459</td>\n",
              "      <td>-0.571513</td>\n",
              "      <td>-0.176445</td>\n",
              "      <td>1</td>\n",
              "    </tr>\n",
              "    <tr>\n",
              "      <th>2021-05-08</th>\n",
              "      <td>-0.410936</td>\n",
              "      <td>0.616931</td>\n",
              "      <td>0.222044</td>\n",
              "      <td>0.383838</td>\n",
              "      <td>2</td>\n",
              "    </tr>\n",
              "    <tr>\n",
              "      <th>2021-05-09</th>\n",
              "      <td>0.496586</td>\n",
              "      <td>0.133079</td>\n",
              "      <td>-0.862439</td>\n",
              "      <td>-0.218478</td>\n",
              "      <td>3</td>\n",
              "    </tr>\n",
              "    <tr>\n",
              "      <th>2021-05-10</th>\n",
              "      <td>-2.224439</td>\n",
              "      <td>-1.045218</td>\n",
              "      <td>0.202574</td>\n",
              "      <td>-0.926492</td>\n",
              "      <td>4</td>\n",
              "    </tr>\n",
              "    <tr>\n",
              "      <th>2021-05-11</th>\n",
              "      <td>1.136660</td>\n",
              "      <td>-0.031536</td>\n",
              "      <td>-0.220475</td>\n",
              "      <td>-0.735769</td>\n",
              "      <td>5</td>\n",
              "    </tr>\n",
              "    <tr>\n",
              "      <th>2021-05-12</th>\n",
              "      <td>-1.905682</td>\n",
              "      <td>-0.061195</td>\n",
              "      <td>0.265365</td>\n",
              "      <td>0.232477</td>\n",
              "      <td>6</td>\n",
              "    </tr>\n",
              "  </tbody>\n",
              "</table>\n",
              "</div>"
            ],
            "text/plain": [
              "                   A         B         C         D  F\n",
              "2021-05-07 -1.219006 -0.682459 -0.571513 -0.176445  1\n",
              "2021-05-08 -0.410936  0.616931  0.222044  0.383838  2\n",
              "2021-05-09  0.496586  0.133079 -0.862439 -0.218478  3\n",
              "2021-05-10 -2.224439 -1.045218  0.202574 -0.926492  4\n",
              "2021-05-11  1.136660 -0.031536 -0.220475 -0.735769  5\n",
              "2021-05-12 -1.905682 -0.061195  0.265365  0.232477  6"
            ]
          },
          "metadata": {
            "tags": []
          },
          "execution_count": 25
        }
      ]
    },
    {
      "cell_type": "code",
      "metadata": {
        "colab": {
          "base_uri": "https://localhost:8080/",
          "height": 225
        },
        "id": "A20imbnFpVop",
        "outputId": "7c7a7640-a76d-41af-846f-a28f69dea5b2"
      },
      "source": [
        "df.apply(np.cumsum,axis=1)"
      ],
      "execution_count": 29,
      "outputs": [
        {
          "output_type": "execute_result",
          "data": {
            "text/html": [
              "<div>\n",
              "<style scoped>\n",
              "    .dataframe tbody tr th:only-of-type {\n",
              "        vertical-align: middle;\n",
              "    }\n",
              "\n",
              "    .dataframe tbody tr th {\n",
              "        vertical-align: top;\n",
              "    }\n",
              "\n",
              "    .dataframe thead th {\n",
              "        text-align: right;\n",
              "    }\n",
              "</style>\n",
              "<table border=\"1\" class=\"dataframe\">\n",
              "  <thead>\n",
              "    <tr style=\"text-align: right;\">\n",
              "      <th></th>\n",
              "      <th>A</th>\n",
              "      <th>B</th>\n",
              "      <th>C</th>\n",
              "      <th>D</th>\n",
              "      <th>F</th>\n",
              "    </tr>\n",
              "  </thead>\n",
              "  <tbody>\n",
              "    <tr>\n",
              "      <th>2021-05-07</th>\n",
              "      <td>-1.219006</td>\n",
              "      <td>-1.901464</td>\n",
              "      <td>-2.472978</td>\n",
              "      <td>-2.649423</td>\n",
              "      <td>-1.649423</td>\n",
              "    </tr>\n",
              "    <tr>\n",
              "      <th>2021-05-08</th>\n",
              "      <td>-0.410936</td>\n",
              "      <td>0.205995</td>\n",
              "      <td>0.428038</td>\n",
              "      <td>0.811876</td>\n",
              "      <td>2.811876</td>\n",
              "    </tr>\n",
              "    <tr>\n",
              "      <th>2021-05-09</th>\n",
              "      <td>0.496586</td>\n",
              "      <td>0.629665</td>\n",
              "      <td>-0.232773</td>\n",
              "      <td>-0.451251</td>\n",
              "      <td>2.548749</td>\n",
              "    </tr>\n",
              "    <tr>\n",
              "      <th>2021-05-10</th>\n",
              "      <td>-2.224439</td>\n",
              "      <td>-3.269656</td>\n",
              "      <td>-3.067083</td>\n",
              "      <td>-3.993575</td>\n",
              "      <td>0.006425</td>\n",
              "    </tr>\n",
              "    <tr>\n",
              "      <th>2021-05-11</th>\n",
              "      <td>1.136660</td>\n",
              "      <td>1.105124</td>\n",
              "      <td>0.884649</td>\n",
              "      <td>0.148880</td>\n",
              "      <td>5.148880</td>\n",
              "    </tr>\n",
              "    <tr>\n",
              "      <th>2021-05-12</th>\n",
              "      <td>-1.905682</td>\n",
              "      <td>-1.966877</td>\n",
              "      <td>-1.701512</td>\n",
              "      <td>-1.469035</td>\n",
              "      <td>4.530965</td>\n",
              "    </tr>\n",
              "  </tbody>\n",
              "</table>\n",
              "</div>"
            ],
            "text/plain": [
              "                   A         B         C         D         F\n",
              "2021-05-07 -1.219006 -1.901464 -2.472978 -2.649423 -1.649423\n",
              "2021-05-08 -0.410936  0.205995  0.428038  0.811876  2.811876\n",
              "2021-05-09  0.496586  0.629665 -0.232773 -0.451251  2.548749\n",
              "2021-05-10 -2.224439 -3.269656 -3.067083 -3.993575  0.006425\n",
              "2021-05-11  1.136660  1.105124  0.884649  0.148880  5.148880\n",
              "2021-05-12 -1.905682 -1.966877 -1.701512 -1.469035  4.530965"
            ]
          },
          "metadata": {
            "tags": []
          },
          "execution_count": 29
        }
      ]
    },
    {
      "cell_type": "code",
      "metadata": {
        "colab": {
          "base_uri": "https://localhost:8080/"
        },
        "id": "2m4aKUQyqE_7",
        "outputId": "1129f4e4-0add-41dd-ed60-c328d291b6df"
      },
      "source": [
        "lambda df : df.max() - df.min"
      ],
      "execution_count": 28,
      "outputs": [
        {
          "output_type": "execute_result",
          "data": {
            "text/plain": [
              "<function __main__.<lambda>>"
            ]
          },
          "metadata": {
            "tags": []
          },
          "execution_count": 28
        }
      ]
    },
    {
      "cell_type": "code",
      "metadata": {
        "colab": {
          "base_uri": "https://localhost:8080/"
        },
        "id": "56FprId_qVyJ",
        "outputId": "9c6212c5-c373-4ba4-b5fc-76198e74a47f"
      },
      "source": [
        "df.apply(lambda x : x.max() - x.min())"
      ],
      "execution_count": 30,
      "outputs": [
        {
          "output_type": "execute_result",
          "data": {
            "text/plain": [
              "A    3.361098\n",
              "B    1.662149\n",
              "C    1.127804\n",
              "D    1.310329\n",
              "F    5.000000\n",
              "dtype: float64"
            ]
          },
          "metadata": {
            "tags": []
          },
          "execution_count": 30
        }
      ]
    },
    {
      "cell_type": "code",
      "metadata": {
        "colab": {
          "base_uri": "https://localhost:8080/"
        },
        "id": "zVfcv39stSWI",
        "outputId": "fa9cec0f-aed1-4e81-9d32-35cb302c291f"
      },
      "source": [
        "df.A.max(), df.A.min()"
      ],
      "execution_count": 31,
      "outputs": [
        {
          "output_type": "execute_result",
          "data": {
            "text/plain": [
              "(1.1366596751254687, -2.224438777424692)"
            ]
          },
          "metadata": {
            "tags": []
          },
          "execution_count": 31
        }
      ]
    },
    {
      "cell_type": "code",
      "metadata": {
        "colab": {
          "base_uri": "https://localhost:8080/",
          "height": 225
        },
        "id": "56AHdUruteaG",
        "outputId": "1ac0c4b7-5155-4c1d-f53c-22a24be22404"
      },
      "source": [
        "df"
      ],
      "execution_count": 32,
      "outputs": [
        {
          "output_type": "execute_result",
          "data": {
            "text/html": [
              "<div>\n",
              "<style scoped>\n",
              "    .dataframe tbody tr th:only-of-type {\n",
              "        vertical-align: middle;\n",
              "    }\n",
              "\n",
              "    .dataframe tbody tr th {\n",
              "        vertical-align: top;\n",
              "    }\n",
              "\n",
              "    .dataframe thead th {\n",
              "        text-align: right;\n",
              "    }\n",
              "</style>\n",
              "<table border=\"1\" class=\"dataframe\">\n",
              "  <thead>\n",
              "    <tr style=\"text-align: right;\">\n",
              "      <th></th>\n",
              "      <th>A</th>\n",
              "      <th>B</th>\n",
              "      <th>C</th>\n",
              "      <th>D</th>\n",
              "      <th>F</th>\n",
              "    </tr>\n",
              "  </thead>\n",
              "  <tbody>\n",
              "    <tr>\n",
              "      <th>2021-05-07</th>\n",
              "      <td>-1.219006</td>\n",
              "      <td>-0.682459</td>\n",
              "      <td>-0.571513</td>\n",
              "      <td>-0.176445</td>\n",
              "      <td>1</td>\n",
              "    </tr>\n",
              "    <tr>\n",
              "      <th>2021-05-08</th>\n",
              "      <td>-0.410936</td>\n",
              "      <td>0.616931</td>\n",
              "      <td>0.222044</td>\n",
              "      <td>0.383838</td>\n",
              "      <td>2</td>\n",
              "    </tr>\n",
              "    <tr>\n",
              "      <th>2021-05-09</th>\n",
              "      <td>0.496586</td>\n",
              "      <td>0.133079</td>\n",
              "      <td>-0.862439</td>\n",
              "      <td>-0.218478</td>\n",
              "      <td>3</td>\n",
              "    </tr>\n",
              "    <tr>\n",
              "      <th>2021-05-10</th>\n",
              "      <td>-2.224439</td>\n",
              "      <td>-1.045218</td>\n",
              "      <td>0.202574</td>\n",
              "      <td>-0.926492</td>\n",
              "      <td>4</td>\n",
              "    </tr>\n",
              "    <tr>\n",
              "      <th>2021-05-11</th>\n",
              "      <td>1.136660</td>\n",
              "      <td>-0.031536</td>\n",
              "      <td>-0.220475</td>\n",
              "      <td>-0.735769</td>\n",
              "      <td>5</td>\n",
              "    </tr>\n",
              "    <tr>\n",
              "      <th>2021-05-12</th>\n",
              "      <td>-1.905682</td>\n",
              "      <td>-0.061195</td>\n",
              "      <td>0.265365</td>\n",
              "      <td>0.232477</td>\n",
              "      <td>6</td>\n",
              "    </tr>\n",
              "  </tbody>\n",
              "</table>\n",
              "</div>"
            ],
            "text/plain": [
              "                   A         B         C         D  F\n",
              "2021-05-07 -1.219006 -0.682459 -0.571513 -0.176445  1\n",
              "2021-05-08 -0.410936  0.616931  0.222044  0.383838  2\n",
              "2021-05-09  0.496586  0.133079 -0.862439 -0.218478  3\n",
              "2021-05-10 -2.224439 -1.045218  0.202574 -0.926492  4\n",
              "2021-05-11  1.136660 -0.031536 -0.220475 -0.735769  5\n",
              "2021-05-12 -1.905682 -0.061195  0.265365  0.232477  6"
            ]
          },
          "metadata": {
            "tags": []
          },
          "execution_count": 32
        }
      ]
    },
    {
      "cell_type": "code",
      "metadata": {
        "colab": {
          "base_uri": "https://localhost:8080/"
        },
        "id": "ID4tYTp6uJLX",
        "outputId": "01128e25-6c0f-4bad-ca09-1a332ce5e7c6"
      },
      "source": [
        "s = pd.Series(np.random.randint(1,7,size = 6000000))\n",
        "s.value_counts()"
      ],
      "execution_count": 39,
      "outputs": [
        {
          "output_type": "execute_result",
          "data": {
            "text/plain": [
              "6    1001684\n",
              "4    1000471\n",
              "5    1000258\n",
              "2     999563\n",
              "1     999459\n",
              "3     998565\n",
              "dtype: int64"
            ]
          },
          "metadata": {
            "tags": []
          },
          "execution_count": 39
        }
      ]
    },
    {
      "cell_type": "code",
      "metadata": {
        "id": "3BfAZqXOuP81"
      },
      "source": [
        "df = pd.DataFrame(np.random.randn(10,4))"
      ],
      "execution_count": 45,
      "outputs": []
    },
    {
      "cell_type": "code",
      "metadata": {
        "id": "w9AXDeSevlcP"
      },
      "source": [
        "pieces = df[:3], df[3:7], df[7:]"
      ],
      "execution_count": 48,
      "outputs": []
    },
    {
      "cell_type": "code",
      "metadata": {
        "colab": {
          "base_uri": "https://localhost:8080/",
          "height": 343
        },
        "id": "_KSd35SNvvbF",
        "outputId": "1c23a210-dce7-4712-d8dc-768bb91fe289"
      },
      "source": [
        "pd.concat(pieces)"
      ],
      "execution_count": 49,
      "outputs": [
        {
          "output_type": "execute_result",
          "data": {
            "text/html": [
              "<div>\n",
              "<style scoped>\n",
              "    .dataframe tbody tr th:only-of-type {\n",
              "        vertical-align: middle;\n",
              "    }\n",
              "\n",
              "    .dataframe tbody tr th {\n",
              "        vertical-align: top;\n",
              "    }\n",
              "\n",
              "    .dataframe thead th {\n",
              "        text-align: right;\n",
              "    }\n",
              "</style>\n",
              "<table border=\"1\" class=\"dataframe\">\n",
              "  <thead>\n",
              "    <tr style=\"text-align: right;\">\n",
              "      <th></th>\n",
              "      <th>0</th>\n",
              "      <th>1</th>\n",
              "      <th>2</th>\n",
              "      <th>3</th>\n",
              "    </tr>\n",
              "  </thead>\n",
              "  <tbody>\n",
              "    <tr>\n",
              "      <th>0</th>\n",
              "      <td>-1.289223</td>\n",
              "      <td>0.185292</td>\n",
              "      <td>-0.103860</td>\n",
              "      <td>0.688251</td>\n",
              "    </tr>\n",
              "    <tr>\n",
              "      <th>1</th>\n",
              "      <td>-0.353380</td>\n",
              "      <td>-0.947015</td>\n",
              "      <td>1.115580</td>\n",
              "      <td>0.800612</td>\n",
              "    </tr>\n",
              "    <tr>\n",
              "      <th>2</th>\n",
              "      <td>-0.053773</td>\n",
              "      <td>1.192654</td>\n",
              "      <td>0.969657</td>\n",
              "      <td>-0.959330</td>\n",
              "    </tr>\n",
              "    <tr>\n",
              "      <th>3</th>\n",
              "      <td>0.050468</td>\n",
              "      <td>1.791991</td>\n",
              "      <td>0.192798</td>\n",
              "      <td>0.537742</td>\n",
              "    </tr>\n",
              "    <tr>\n",
              "      <th>4</th>\n",
              "      <td>-0.253668</td>\n",
              "      <td>1.249576</td>\n",
              "      <td>1.007813</td>\n",
              "      <td>-1.003685</td>\n",
              "    </tr>\n",
              "    <tr>\n",
              "      <th>5</th>\n",
              "      <td>-0.714996</td>\n",
              "      <td>-0.585370</td>\n",
              "      <td>-0.636495</td>\n",
              "      <td>-1.049864</td>\n",
              "    </tr>\n",
              "    <tr>\n",
              "      <th>6</th>\n",
              "      <td>-0.008616</td>\n",
              "      <td>-0.270664</td>\n",
              "      <td>-0.357136</td>\n",
              "      <td>0.382075</td>\n",
              "    </tr>\n",
              "    <tr>\n",
              "      <th>7</th>\n",
              "      <td>0.545940</td>\n",
              "      <td>-0.258943</td>\n",
              "      <td>0.190656</td>\n",
              "      <td>0.044741</td>\n",
              "    </tr>\n",
              "    <tr>\n",
              "      <th>8</th>\n",
              "      <td>-1.194521</td>\n",
              "      <td>-1.005884</td>\n",
              "      <td>1.690746</td>\n",
              "      <td>0.479422</td>\n",
              "    </tr>\n",
              "    <tr>\n",
              "      <th>9</th>\n",
              "      <td>0.839789</td>\n",
              "      <td>-0.807863</td>\n",
              "      <td>1.269350</td>\n",
              "      <td>-1.574689</td>\n",
              "    </tr>\n",
              "  </tbody>\n",
              "</table>\n",
              "</div>"
            ],
            "text/plain": [
              "          0         1         2         3\n",
              "0 -1.289223  0.185292 -0.103860  0.688251\n",
              "1 -0.353380 -0.947015  1.115580  0.800612\n",
              "2 -0.053773  1.192654  0.969657 -0.959330\n",
              "3  0.050468  1.791991  0.192798  0.537742\n",
              "4 -0.253668  1.249576  1.007813 -1.003685\n",
              "5 -0.714996 -0.585370 -0.636495 -1.049864\n",
              "6 -0.008616 -0.270664 -0.357136  0.382075\n",
              "7  0.545940 -0.258943  0.190656  0.044741\n",
              "8 -1.194521 -1.005884  1.690746  0.479422\n",
              "9  0.839789 -0.807863  1.269350 -1.574689"
            ]
          },
          "metadata": {
            "tags": []
          },
          "execution_count": 49
        }
      ]
    },
    {
      "cell_type": "code",
      "metadata": {
        "id": "85gdxM7HwHlF"
      },
      "source": [
        "left = pd.DataFrame(\n",
        "    {\n",
        "        'key':['foo', 'foo'], \n",
        "        'lval': [1, 2]\n",
        "     }\n",
        ")\n",
        "\n",
        "right = pd.DataFrame({'key':['foo', 'foo'], 'rval': [4, 5]})"
      ],
      "execution_count": 52,
      "outputs": []
    },
    {
      "cell_type": "code",
      "metadata": {
        "colab": {
          "base_uri": "https://localhost:8080/",
          "height": 106
        },
        "id": "72WqLv_TwfhE",
        "outputId": "bb102442-63b2-41b1-91a4-04b9567fa87f"
      },
      "source": [
        "left"
      ],
      "execution_count": 53,
      "outputs": [
        {
          "output_type": "execute_result",
          "data": {
            "text/html": [
              "<div>\n",
              "<style scoped>\n",
              "    .dataframe tbody tr th:only-of-type {\n",
              "        vertical-align: middle;\n",
              "    }\n",
              "\n",
              "    .dataframe tbody tr th {\n",
              "        vertical-align: top;\n",
              "    }\n",
              "\n",
              "    .dataframe thead th {\n",
              "        text-align: right;\n",
              "    }\n",
              "</style>\n",
              "<table border=\"1\" class=\"dataframe\">\n",
              "  <thead>\n",
              "    <tr style=\"text-align: right;\">\n",
              "      <th></th>\n",
              "      <th>key</th>\n",
              "      <th>lval</th>\n",
              "    </tr>\n",
              "  </thead>\n",
              "  <tbody>\n",
              "    <tr>\n",
              "      <th>0</th>\n",
              "      <td>foo</td>\n",
              "      <td>1</td>\n",
              "    </tr>\n",
              "    <tr>\n",
              "      <th>1</th>\n",
              "      <td>foo</td>\n",
              "      <td>2</td>\n",
              "    </tr>\n",
              "  </tbody>\n",
              "</table>\n",
              "</div>"
            ],
            "text/plain": [
              "   key  lval\n",
              "0  foo     1\n",
              "1  foo     2"
            ]
          },
          "metadata": {
            "tags": []
          },
          "execution_count": 53
        }
      ]
    },
    {
      "cell_type": "code",
      "metadata": {
        "colab": {
          "base_uri": "https://localhost:8080/",
          "height": 106
        },
        "id": "I2o8e9yGwpzU",
        "outputId": "cd3d9a54-c044-4d25-8547-c82925e64f78"
      },
      "source": [
        "right"
      ],
      "execution_count": 54,
      "outputs": [
        {
          "output_type": "execute_result",
          "data": {
            "text/html": [
              "<div>\n",
              "<style scoped>\n",
              "    .dataframe tbody tr th:only-of-type {\n",
              "        vertical-align: middle;\n",
              "    }\n",
              "\n",
              "    .dataframe tbody tr th {\n",
              "        vertical-align: top;\n",
              "    }\n",
              "\n",
              "    .dataframe thead th {\n",
              "        text-align: right;\n",
              "    }\n",
              "</style>\n",
              "<table border=\"1\" class=\"dataframe\">\n",
              "  <thead>\n",
              "    <tr style=\"text-align: right;\">\n",
              "      <th></th>\n",
              "      <th>key</th>\n",
              "      <th>rval</th>\n",
              "    </tr>\n",
              "  </thead>\n",
              "  <tbody>\n",
              "    <tr>\n",
              "      <th>0</th>\n",
              "      <td>foo</td>\n",
              "      <td>4</td>\n",
              "    </tr>\n",
              "    <tr>\n",
              "      <th>1</th>\n",
              "      <td>foo</td>\n",
              "      <td>5</td>\n",
              "    </tr>\n",
              "  </tbody>\n",
              "</table>\n",
              "</div>"
            ],
            "text/plain": [
              "   key  rval\n",
              "0  foo     4\n",
              "1  foo     5"
            ]
          },
          "metadata": {
            "tags": []
          },
          "execution_count": 54
        }
      ]
    },
    {
      "cell_type": "code",
      "metadata": {
        "colab": {
          "base_uri": "https://localhost:8080/",
          "height": 166
        },
        "id": "NrEBjavtwwc0",
        "outputId": "5fca7215-2988-4e16-d910-ae2bfe4ab5fc"
      },
      "source": [
        "pd.merge(left, right, on = 'key')"
      ],
      "execution_count": 55,
      "outputs": [
        {
          "output_type": "execute_result",
          "data": {
            "text/html": [
              "<div>\n",
              "<style scoped>\n",
              "    .dataframe tbody tr th:only-of-type {\n",
              "        vertical-align: middle;\n",
              "    }\n",
              "\n",
              "    .dataframe tbody tr th {\n",
              "        vertical-align: top;\n",
              "    }\n",
              "\n",
              "    .dataframe thead th {\n",
              "        text-align: right;\n",
              "    }\n",
              "</style>\n",
              "<table border=\"1\" class=\"dataframe\">\n",
              "  <thead>\n",
              "    <tr style=\"text-align: right;\">\n",
              "      <th></th>\n",
              "      <th>key</th>\n",
              "      <th>lval</th>\n",
              "      <th>rval</th>\n",
              "    </tr>\n",
              "  </thead>\n",
              "  <tbody>\n",
              "    <tr>\n",
              "      <th>0</th>\n",
              "      <td>foo</td>\n",
              "      <td>1</td>\n",
              "      <td>4</td>\n",
              "    </tr>\n",
              "    <tr>\n",
              "      <th>1</th>\n",
              "      <td>foo</td>\n",
              "      <td>1</td>\n",
              "      <td>5</td>\n",
              "    </tr>\n",
              "    <tr>\n",
              "      <th>2</th>\n",
              "      <td>foo</td>\n",
              "      <td>2</td>\n",
              "      <td>4</td>\n",
              "    </tr>\n",
              "    <tr>\n",
              "      <th>3</th>\n",
              "      <td>foo</td>\n",
              "      <td>2</td>\n",
              "      <td>5</td>\n",
              "    </tr>\n",
              "  </tbody>\n",
              "</table>\n",
              "</div>"
            ],
            "text/plain": [
              "   key  lval  rval\n",
              "0  foo     1     4\n",
              "1  foo     1     5\n",
              "2  foo     2     4\n",
              "3  foo     2     5"
            ]
          },
          "metadata": {
            "tags": []
          },
          "execution_count": 55
        }
      ]
    },
    {
      "cell_type": "code",
      "metadata": {
        "colab": {
          "base_uri": "https://localhost:8080/",
          "height": 343
        },
        "id": "aLfCJBFPxJaz",
        "outputId": "e57b13d9-2c54-4a8b-e6d3-c06b9caf41ba"
      },
      "source": [
        "df"
      ],
      "execution_count": 56,
      "outputs": [
        {
          "output_type": "execute_result",
          "data": {
            "text/html": [
              "<div>\n",
              "<style scoped>\n",
              "    .dataframe tbody tr th:only-of-type {\n",
              "        vertical-align: middle;\n",
              "    }\n",
              "\n",
              "    .dataframe tbody tr th {\n",
              "        vertical-align: top;\n",
              "    }\n",
              "\n",
              "    .dataframe thead th {\n",
              "        text-align: right;\n",
              "    }\n",
              "</style>\n",
              "<table border=\"1\" class=\"dataframe\">\n",
              "  <thead>\n",
              "    <tr style=\"text-align: right;\">\n",
              "      <th></th>\n",
              "      <th>0</th>\n",
              "      <th>1</th>\n",
              "      <th>2</th>\n",
              "      <th>3</th>\n",
              "    </tr>\n",
              "  </thead>\n",
              "  <tbody>\n",
              "    <tr>\n",
              "      <th>0</th>\n",
              "      <td>-1.289223</td>\n",
              "      <td>0.185292</td>\n",
              "      <td>-0.103860</td>\n",
              "      <td>0.688251</td>\n",
              "    </tr>\n",
              "    <tr>\n",
              "      <th>1</th>\n",
              "      <td>-0.353380</td>\n",
              "      <td>-0.947015</td>\n",
              "      <td>1.115580</td>\n",
              "      <td>0.800612</td>\n",
              "    </tr>\n",
              "    <tr>\n",
              "      <th>2</th>\n",
              "      <td>-0.053773</td>\n",
              "      <td>1.192654</td>\n",
              "      <td>0.969657</td>\n",
              "      <td>-0.959330</td>\n",
              "    </tr>\n",
              "    <tr>\n",
              "      <th>3</th>\n",
              "      <td>0.050468</td>\n",
              "      <td>1.791991</td>\n",
              "      <td>0.192798</td>\n",
              "      <td>0.537742</td>\n",
              "    </tr>\n",
              "    <tr>\n",
              "      <th>4</th>\n",
              "      <td>-0.253668</td>\n",
              "      <td>1.249576</td>\n",
              "      <td>1.007813</td>\n",
              "      <td>-1.003685</td>\n",
              "    </tr>\n",
              "    <tr>\n",
              "      <th>5</th>\n",
              "      <td>-0.714996</td>\n",
              "      <td>-0.585370</td>\n",
              "      <td>-0.636495</td>\n",
              "      <td>-1.049864</td>\n",
              "    </tr>\n",
              "    <tr>\n",
              "      <th>6</th>\n",
              "      <td>-0.008616</td>\n",
              "      <td>-0.270664</td>\n",
              "      <td>-0.357136</td>\n",
              "      <td>0.382075</td>\n",
              "    </tr>\n",
              "    <tr>\n",
              "      <th>7</th>\n",
              "      <td>0.545940</td>\n",
              "      <td>-0.258943</td>\n",
              "      <td>0.190656</td>\n",
              "      <td>0.044741</td>\n",
              "    </tr>\n",
              "    <tr>\n",
              "      <th>8</th>\n",
              "      <td>-1.194521</td>\n",
              "      <td>-1.005884</td>\n",
              "      <td>1.690746</td>\n",
              "      <td>0.479422</td>\n",
              "    </tr>\n",
              "    <tr>\n",
              "      <th>9</th>\n",
              "      <td>0.839789</td>\n",
              "      <td>-0.807863</td>\n",
              "      <td>1.269350</td>\n",
              "      <td>-1.574689</td>\n",
              "    </tr>\n",
              "  </tbody>\n",
              "</table>\n",
              "</div>"
            ],
            "text/plain": [
              "          0         1         2         3\n",
              "0 -1.289223  0.185292 -0.103860  0.688251\n",
              "1 -0.353380 -0.947015  1.115580  0.800612\n",
              "2 -0.053773  1.192654  0.969657 -0.959330\n",
              "3  0.050468  1.791991  0.192798  0.537742\n",
              "4 -0.253668  1.249576  1.007813 -1.003685\n",
              "5 -0.714996 -0.585370 -0.636495 -1.049864\n",
              "6 -0.008616 -0.270664 -0.357136  0.382075\n",
              "7  0.545940 -0.258943  0.190656  0.044741\n",
              "8 -1.194521 -1.005884  1.690746  0.479422\n",
              "9  0.839789 -0.807863  1.269350 -1.574689"
            ]
          },
          "metadata": {
            "tags": []
          },
          "execution_count": 56
        }
      ]
    },
    {
      "cell_type": "code",
      "metadata": {
        "id": "0OddCIfIy4zn"
      },
      "source": [
        "df = pd.DataFrame(\n",
        "    {\n",
        "        'A' : ['foo', 'bar', 'foo', 'bar', 'foo', 'bar', 'foo', 'bar'],\n",
        "        'B' : ['one', 'one', 'two', 'three', 'two', 'two', 'one', 'three'],\n",
        "        'C' : np.random.randn(8),\n",
        "        'D' : np.random.randn(8)\n",
        "    }\n",
        ")"
      ],
      "execution_count": 57,
      "outputs": []
    },
    {
      "cell_type": "code",
      "metadata": {
        "colab": {
          "base_uri": "https://localhost:8080/",
          "height": 284
        },
        "id": "SzUyFAlxy-hS",
        "outputId": "c9f27c67-1d5b-438a-b6f0-6079ae5ab8d4"
      },
      "source": [
        "df"
      ],
      "execution_count": 58,
      "outputs": [
        {
          "output_type": "execute_result",
          "data": {
            "text/html": [
              "<div>\n",
              "<style scoped>\n",
              "    .dataframe tbody tr th:only-of-type {\n",
              "        vertical-align: middle;\n",
              "    }\n",
              "\n",
              "    .dataframe tbody tr th {\n",
              "        vertical-align: top;\n",
              "    }\n",
              "\n",
              "    .dataframe thead th {\n",
              "        text-align: right;\n",
              "    }\n",
              "</style>\n",
              "<table border=\"1\" class=\"dataframe\">\n",
              "  <thead>\n",
              "    <tr style=\"text-align: right;\">\n",
              "      <th></th>\n",
              "      <th>A</th>\n",
              "      <th>B</th>\n",
              "      <th>C</th>\n",
              "      <th>D</th>\n",
              "    </tr>\n",
              "  </thead>\n",
              "  <tbody>\n",
              "    <tr>\n",
              "      <th>0</th>\n",
              "      <td>foo</td>\n",
              "      <td>one</td>\n",
              "      <td>-2.095005</td>\n",
              "      <td>-0.052540</td>\n",
              "    </tr>\n",
              "    <tr>\n",
              "      <th>1</th>\n",
              "      <td>bar</td>\n",
              "      <td>one</td>\n",
              "      <td>0.894528</td>\n",
              "      <td>2.210777</td>\n",
              "    </tr>\n",
              "    <tr>\n",
              "      <th>2</th>\n",
              "      <td>foo</td>\n",
              "      <td>two</td>\n",
              "      <td>0.271649</td>\n",
              "      <td>0.366140</td>\n",
              "    </tr>\n",
              "    <tr>\n",
              "      <th>3</th>\n",
              "      <td>bar</td>\n",
              "      <td>three</td>\n",
              "      <td>0.284631</td>\n",
              "      <td>-0.622669</td>\n",
              "    </tr>\n",
              "    <tr>\n",
              "      <th>4</th>\n",
              "      <td>foo</td>\n",
              "      <td>two</td>\n",
              "      <td>-0.797636</td>\n",
              "      <td>0.124659</td>\n",
              "    </tr>\n",
              "    <tr>\n",
              "      <th>5</th>\n",
              "      <td>bar</td>\n",
              "      <td>two</td>\n",
              "      <td>-2.276427</td>\n",
              "      <td>0.189058</td>\n",
              "    </tr>\n",
              "    <tr>\n",
              "      <th>6</th>\n",
              "      <td>foo</td>\n",
              "      <td>one</td>\n",
              "      <td>-0.188350</td>\n",
              "      <td>-0.356422</td>\n",
              "    </tr>\n",
              "    <tr>\n",
              "      <th>7</th>\n",
              "      <td>bar</td>\n",
              "      <td>three</td>\n",
              "      <td>0.132985</td>\n",
              "      <td>0.197092</td>\n",
              "    </tr>\n",
              "  </tbody>\n",
              "</table>\n",
              "</div>"
            ],
            "text/plain": [
              "     A      B         C         D\n",
              "0  foo    one -2.095005 -0.052540\n",
              "1  bar    one  0.894528  2.210777\n",
              "2  foo    two  0.271649  0.366140\n",
              "3  bar  three  0.284631 -0.622669\n",
              "4  foo    two -0.797636  0.124659\n",
              "5  bar    two -2.276427  0.189058\n",
              "6  foo    one -0.188350 -0.356422\n",
              "7  bar  three  0.132985  0.197092"
            ]
          },
          "metadata": {
            "tags": []
          },
          "execution_count": 58
        }
      ]
    },
    {
      "cell_type": "code",
      "metadata": {
        "colab": {
          "base_uri": "https://localhost:8080/",
          "height": 136
        },
        "id": "3AgFFCOwy_pG",
        "outputId": "035e485d-371d-40b4-e06f-32bed7820906"
      },
      "source": [
        "a = df.groupby('A').sum()\n",
        "a"
      ],
      "execution_count": 60,
      "outputs": [
        {
          "output_type": "execute_result",
          "data": {
            "text/html": [
              "<div>\n",
              "<style scoped>\n",
              "    .dataframe tbody tr th:only-of-type {\n",
              "        vertical-align: middle;\n",
              "    }\n",
              "\n",
              "    .dataframe tbody tr th {\n",
              "        vertical-align: top;\n",
              "    }\n",
              "\n",
              "    .dataframe thead th {\n",
              "        text-align: right;\n",
              "    }\n",
              "</style>\n",
              "<table border=\"1\" class=\"dataframe\">\n",
              "  <thead>\n",
              "    <tr style=\"text-align: right;\">\n",
              "      <th></th>\n",
              "      <th>C</th>\n",
              "      <th>D</th>\n",
              "    </tr>\n",
              "    <tr>\n",
              "      <th>A</th>\n",
              "      <th></th>\n",
              "      <th></th>\n",
              "    </tr>\n",
              "  </thead>\n",
              "  <tbody>\n",
              "    <tr>\n",
              "      <th>bar</th>\n",
              "      <td>-0.964283</td>\n",
              "      <td>1.974258</td>\n",
              "    </tr>\n",
              "    <tr>\n",
              "      <th>foo</th>\n",
              "      <td>-2.809342</td>\n",
              "      <td>0.081837</td>\n",
              "    </tr>\n",
              "  </tbody>\n",
              "</table>\n",
              "</div>"
            ],
            "text/plain": [
              "            C         D\n",
              "A                      \n",
              "bar -0.964283  1.974258\n",
              "foo -2.809342  0.081837"
            ]
          },
          "metadata": {
            "tags": []
          },
          "execution_count": 60
        }
      ]
    },
    {
      "cell_type": "code",
      "metadata": {
        "colab": {
          "base_uri": "https://localhost:8080/"
        },
        "id": "dfV8xl7QzHgi",
        "outputId": "7129953e-c27b-4e24-815c-68bf6f1a0aef"
      },
      "source": [
        "x = [1, 2, 3]\n",
        "y = [4, 5, 6]\n",
        "zipped = zip(x,y)\n",
        "list(zipped)\n",
        "#-------------------묶는 것 \n",
        "x2, y2 = zip(*zip(x,y))\n",
        "print(x2)\n",
        "print(y2)\n",
        "#-------------------푸는 것"
      ],
      "execution_count": 61,
      "outputs": [
        {
          "output_type": "stream",
          "text": [
            "(1, 2, 3)\n",
            "(4, 5, 6)\n"
          ],
          "name": "stdout"
        }
      ]
    },
    {
      "cell_type": "code",
      "metadata": {
        "colab": {
          "base_uri": "https://localhost:8080/"
        },
        "id": "MQk3WHkv0YmC",
        "outputId": "8c060eef-8ee2-48ce-def5-2a6bc0a34873"
      },
      "source": [
        "x = [1, 2, 3]\n",
        "y = [4, 5, 6]\n",
        "zipped = zip(x,y)\n",
        "list(zipped)"
      ],
      "execution_count": 62,
      "outputs": [
        {
          "output_type": "execute_result",
          "data": {
            "text/plain": [
              "[(1, 4), (2, 5), (3, 6)]"
            ]
          },
          "metadata": {
            "tags": []
          },
          "execution_count": 62
        }
      ]
    },
    {
      "cell_type": "code",
      "metadata": {
        "id": "rmjQyGop0dEU"
      },
      "source": [
        "x2, y2 = zip(*zip(x,y))"
      ],
      "execution_count": 63,
      "outputs": []
    },
    {
      "cell_type": "code",
      "metadata": {
        "colab": {
          "base_uri": "https://localhost:8080/"
        },
        "id": "YYj5U73w0hcR",
        "outputId": "ba5f74f8-e389-4d3f-b9cd-072d5cd49599"
      },
      "source": [
        "x2"
      ],
      "execution_count": 64,
      "outputs": [
        {
          "output_type": "execute_result",
          "data": {
            "text/plain": [
              "(1, 2, 3)"
            ]
          },
          "metadata": {
            "tags": []
          },
          "execution_count": 64
        }
      ]
    },
    {
      "cell_type": "code",
      "metadata": {
        "colab": {
          "base_uri": "https://localhost:8080/"
        },
        "id": "AT-VuZnp0iHx",
        "outputId": "8d166008-51d5-4bcf-f2d2-b2ab0e657272"
      },
      "source": [
        "y2"
      ],
      "execution_count": 65,
      "outputs": [
        {
          "output_type": "execute_result",
          "data": {
            "text/plain": [
              "(4, 5, 6)"
            ]
          },
          "metadata": {
            "tags": []
          },
          "execution_count": 65
        }
      ]
    },
    {
      "cell_type": "code",
      "metadata": {
        "id": "4SNk-pR-0iwx"
      },
      "source": [
        "df = pd.DataFrame(\n",
        "    {\n",
        "        'A' : ['one', 'one', 'two', 'three'] * 3,\n",
        "        'B' : ['A', 'B', 'C'] * 4,\n",
        "        'C' : ['foo', 'foo', 'foo', 'bar', 'bar', 'bar' ] * 2,\n",
        "        'D' : np.random.randn(12),\n",
        "        'E' : np.random.randn(12)\n",
        "    }\n",
        ")"
      ],
      "execution_count": 67,
      "outputs": []
    },
    {
      "cell_type": "code",
      "metadata": {
        "colab": {
          "base_uri": "https://localhost:8080/",
          "height": 402
        },
        "id": "mNBh_W9u1MXi",
        "outputId": "82020bed-bac5-43cf-b74e-72cbe85c0f2c"
      },
      "source": [
        "df"
      ],
      "execution_count": 68,
      "outputs": [
        {
          "output_type": "execute_result",
          "data": {
            "text/html": [
              "<div>\n",
              "<style scoped>\n",
              "    .dataframe tbody tr th:only-of-type {\n",
              "        vertical-align: middle;\n",
              "    }\n",
              "\n",
              "    .dataframe tbody tr th {\n",
              "        vertical-align: top;\n",
              "    }\n",
              "\n",
              "    .dataframe thead th {\n",
              "        text-align: right;\n",
              "    }\n",
              "</style>\n",
              "<table border=\"1\" class=\"dataframe\">\n",
              "  <thead>\n",
              "    <tr style=\"text-align: right;\">\n",
              "      <th></th>\n",
              "      <th>A</th>\n",
              "      <th>B</th>\n",
              "      <th>C</th>\n",
              "      <th>D</th>\n",
              "      <th>E</th>\n",
              "    </tr>\n",
              "  </thead>\n",
              "  <tbody>\n",
              "    <tr>\n",
              "      <th>0</th>\n",
              "      <td>one</td>\n",
              "      <td>A</td>\n",
              "      <td>foo</td>\n",
              "      <td>-0.722061</td>\n",
              "      <td>-1.021138</td>\n",
              "    </tr>\n",
              "    <tr>\n",
              "      <th>1</th>\n",
              "      <td>one</td>\n",
              "      <td>B</td>\n",
              "      <td>foo</td>\n",
              "      <td>-1.788330</td>\n",
              "      <td>0.272944</td>\n",
              "    </tr>\n",
              "    <tr>\n",
              "      <th>2</th>\n",
              "      <td>two</td>\n",
              "      <td>C</td>\n",
              "      <td>foo</td>\n",
              "      <td>0.223102</td>\n",
              "      <td>-0.998039</td>\n",
              "    </tr>\n",
              "    <tr>\n",
              "      <th>3</th>\n",
              "      <td>three</td>\n",
              "      <td>A</td>\n",
              "      <td>bar</td>\n",
              "      <td>0.229091</td>\n",
              "      <td>0.267341</td>\n",
              "    </tr>\n",
              "    <tr>\n",
              "      <th>4</th>\n",
              "      <td>one</td>\n",
              "      <td>B</td>\n",
              "      <td>bar</td>\n",
              "      <td>0.232835</td>\n",
              "      <td>1.220160</td>\n",
              "    </tr>\n",
              "    <tr>\n",
              "      <th>5</th>\n",
              "      <td>one</td>\n",
              "      <td>C</td>\n",
              "      <td>bar</td>\n",
              "      <td>1.190774</td>\n",
              "      <td>-1.482248</td>\n",
              "    </tr>\n",
              "    <tr>\n",
              "      <th>6</th>\n",
              "      <td>two</td>\n",
              "      <td>A</td>\n",
              "      <td>foo</td>\n",
              "      <td>1.466544</td>\n",
              "      <td>-0.521581</td>\n",
              "    </tr>\n",
              "    <tr>\n",
              "      <th>7</th>\n",
              "      <td>three</td>\n",
              "      <td>B</td>\n",
              "      <td>foo</td>\n",
              "      <td>-0.066633</td>\n",
              "      <td>-1.785527</td>\n",
              "    </tr>\n",
              "    <tr>\n",
              "      <th>8</th>\n",
              "      <td>one</td>\n",
              "      <td>C</td>\n",
              "      <td>foo</td>\n",
              "      <td>-0.728435</td>\n",
              "      <td>0.453250</td>\n",
              "    </tr>\n",
              "    <tr>\n",
              "      <th>9</th>\n",
              "      <td>one</td>\n",
              "      <td>A</td>\n",
              "      <td>bar</td>\n",
              "      <td>1.365897</td>\n",
              "      <td>-0.102703</td>\n",
              "    </tr>\n",
              "    <tr>\n",
              "      <th>10</th>\n",
              "      <td>two</td>\n",
              "      <td>B</td>\n",
              "      <td>bar</td>\n",
              "      <td>-0.760913</td>\n",
              "      <td>0.047323</td>\n",
              "    </tr>\n",
              "    <tr>\n",
              "      <th>11</th>\n",
              "      <td>three</td>\n",
              "      <td>C</td>\n",
              "      <td>bar</td>\n",
              "      <td>-0.089533</td>\n",
              "      <td>0.945585</td>\n",
              "    </tr>\n",
              "  </tbody>\n",
              "</table>\n",
              "</div>"
            ],
            "text/plain": [
              "        A  B    C         D         E\n",
              "0     one  A  foo -0.722061 -1.021138\n",
              "1     one  B  foo -1.788330  0.272944\n",
              "2     two  C  foo  0.223102 -0.998039\n",
              "3   three  A  bar  0.229091  0.267341\n",
              "4     one  B  bar  0.232835  1.220160\n",
              "5     one  C  bar  1.190774 -1.482248\n",
              "6     two  A  foo  1.466544 -0.521581\n",
              "7   three  B  foo -0.066633 -1.785527\n",
              "8     one  C  foo -0.728435  0.453250\n",
              "9     one  A  bar  1.365897 -0.102703\n",
              "10    two  B  bar -0.760913  0.047323\n",
              "11  three  C  bar -0.089533  0.945585"
            ]
          },
          "metadata": {
            "tags": []
          },
          "execution_count": 68
        }
      ]
    },
    {
      "cell_type": "code",
      "metadata": {
        "colab": {
          "base_uri": "https://localhost:8080/",
          "height": 343
        },
        "id": "CJYtRwjz1kLv",
        "outputId": "c0b59e01-c774-492c-9a60-c8e7dab19952"
      },
      "source": [
        "pd.pivot_table(df, values = 'D', index = ['A', 'B'], columns = ['C'])"
      ],
      "execution_count": 69,
      "outputs": [
        {
          "output_type": "execute_result",
          "data": {
            "text/html": [
              "<div>\n",
              "<style scoped>\n",
              "    .dataframe tbody tr th:only-of-type {\n",
              "        vertical-align: middle;\n",
              "    }\n",
              "\n",
              "    .dataframe tbody tr th {\n",
              "        vertical-align: top;\n",
              "    }\n",
              "\n",
              "    .dataframe thead th {\n",
              "        text-align: right;\n",
              "    }\n",
              "</style>\n",
              "<table border=\"1\" class=\"dataframe\">\n",
              "  <thead>\n",
              "    <tr style=\"text-align: right;\">\n",
              "      <th></th>\n",
              "      <th>C</th>\n",
              "      <th>bar</th>\n",
              "      <th>foo</th>\n",
              "    </tr>\n",
              "    <tr>\n",
              "      <th>A</th>\n",
              "      <th>B</th>\n",
              "      <th></th>\n",
              "      <th></th>\n",
              "    </tr>\n",
              "  </thead>\n",
              "  <tbody>\n",
              "    <tr>\n",
              "      <th rowspan=\"3\" valign=\"top\">one</th>\n",
              "      <th>A</th>\n",
              "      <td>1.365897</td>\n",
              "      <td>-0.722061</td>\n",
              "    </tr>\n",
              "    <tr>\n",
              "      <th>B</th>\n",
              "      <td>0.232835</td>\n",
              "      <td>-1.788330</td>\n",
              "    </tr>\n",
              "    <tr>\n",
              "      <th>C</th>\n",
              "      <td>1.190774</td>\n",
              "      <td>-0.728435</td>\n",
              "    </tr>\n",
              "    <tr>\n",
              "      <th rowspan=\"3\" valign=\"top\">three</th>\n",
              "      <th>A</th>\n",
              "      <td>0.229091</td>\n",
              "      <td>NaN</td>\n",
              "    </tr>\n",
              "    <tr>\n",
              "      <th>B</th>\n",
              "      <td>NaN</td>\n",
              "      <td>-0.066633</td>\n",
              "    </tr>\n",
              "    <tr>\n",
              "      <th>C</th>\n",
              "      <td>-0.089533</td>\n",
              "      <td>NaN</td>\n",
              "    </tr>\n",
              "    <tr>\n",
              "      <th rowspan=\"3\" valign=\"top\">two</th>\n",
              "      <th>A</th>\n",
              "      <td>NaN</td>\n",
              "      <td>1.466544</td>\n",
              "    </tr>\n",
              "    <tr>\n",
              "      <th>B</th>\n",
              "      <td>-0.760913</td>\n",
              "      <td>NaN</td>\n",
              "    </tr>\n",
              "    <tr>\n",
              "      <th>C</th>\n",
              "      <td>NaN</td>\n",
              "      <td>0.223102</td>\n",
              "    </tr>\n",
              "  </tbody>\n",
              "</table>\n",
              "</div>"
            ],
            "text/plain": [
              "C             bar       foo\n",
              "A     B                    \n",
              "one   A  1.365897 -0.722061\n",
              "      B  0.232835 -1.788330\n",
              "      C  1.190774 -0.728435\n",
              "three A  0.229091       NaN\n",
              "      B       NaN -0.066633\n",
              "      C -0.089533       NaN\n",
              "two   A       NaN  1.466544\n",
              "      B -0.760913       NaN\n",
              "      C       NaN  0.223102"
            ]
          },
          "metadata": {
            "tags": []
          },
          "execution_count": 69
        }
      ]
    },
    {
      "cell_type": "code",
      "metadata": {
        "id": "8NRby5XL2BUQ"
      },
      "source": [
        ""
      ],
      "execution_count": null,
      "outputs": []
    }
  ]
}