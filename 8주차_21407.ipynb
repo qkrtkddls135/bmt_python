{
  "nbformat": 4,
  "nbformat_minor": 0,
  "metadata": {
    "colab": {
      "name": "8주차_21407.ipynb",
      "provenance": [],
      "collapsed_sections": [],
      "mount_file_id": "1hmup7cy1IWZ23Rw-sbS3cp0nm0g9lpff",
      "authorship_tag": "ABX9TyOAed5zR4J8zGMEn/VGX0O4",
      "include_colab_link": true
    },
    "kernelspec": {
      "name": "python3",
      "display_name": "Python 3"
    },
    "language_info": {
      "name": "python"
    }
  },
  "cells": [
    {
      "cell_type": "markdown",
      "metadata": {
        "id": "view-in-github",
        "colab_type": "text"
      },
      "source": [
        "<a href=\"https://colab.research.google.com/github/qkrtkddls135/bmt_python/blob/main/8%EC%A3%BC%EC%B0%A8_21407.ipynb\" target=\"_parent\"><img src=\"https://colab.research.google.com/assets/colab-badge.svg\" alt=\"Open In Colab\"/></a>"
      ]
    },
    {
      "cell_type": "code",
      "metadata": {
        "id": "Xy60EoyTYtg_"
      },
      "source": [
        " def cal(num1, num2, op):\n",
        "   ans = 0\n",
        "\n",
        "   if op == '+': ans = num1 + num2 \n",
        "   elif op == '-': ans = num1 - num2\n",
        "   elif op == '*': ans = num1 * num2\n",
        "   elif op == '/': ans = num1 / num2 \n",
        "   \n",
        "   print(f'{num1} + {num2} = {ans}')\n",
        "   return ans"
      ],
      "execution_count": null,
      "outputs": []
    },
    {
      "cell_type": "code",
      "metadata": {
        "colab": {
          "base_uri": "https://localhost:8080/"
        },
        "id": "ZkkFlpT9dLsi",
        "outputId": "44f2d6d1-2f57-4e4a-8096-114f351741c5"
      },
      "source": [
        "cal(1,2,'+'), cal(1,2,'-'), cal(1,2,'*'), cal(1,2,'/')"
      ],
      "execution_count": null,
      "outputs": [
        {
          "output_type": "stream",
          "text": [
            "1 + 2 = 3\n",
            "1 + 2 = -1\n",
            "1 + 2 = 2\n",
            "1 + 2 = 0.5\n"
          ],
          "name": "stdout"
        },
        {
          "output_type": "execute_result",
          "data": {
            "text/plain": [
              "(3, -1, 2, 0.5)"
            ]
          },
          "metadata": {
            "tags": []
          },
          "execution_count": 11
        }
      ]
    },
    {
      "cell_type": "code",
      "metadata": {
        "colab": {
          "base_uri": "https://localhost:8080/"
        },
        "id": "APBv7X7JdQjv",
        "outputId": "08e94909-279e-4123-bd6c-775db4db4b4f"
      },
      "source": [
        "a = cal(1,2,'+')"
      ],
      "execution_count": null,
      "outputs": [
        {
          "output_type": "stream",
          "text": [
            "1 + 2 = 3\n"
          ],
          "name": "stdout"
        }
      ]
    },
    {
      "cell_type": "code",
      "metadata": {
        "colab": {
          "base_uri": "https://localhost:8080/"
        },
        "id": "qgdzmtlbd6iI",
        "outputId": "a4145d36-d04e-407b-9baa-f56dc2da1a79"
      },
      "source": [
        "a"
      ],
      "execution_count": null,
      "outputs": [
        {
          "output_type": "execute_result",
          "data": {
            "text/plain": [
              "3"
            ]
          },
          "metadata": {
            "tags": []
          },
          "execution_count": 13
        }
      ]
    },
    {
      "cell_type": "code",
      "metadata": {
        "colab": {
          "base_uri": "https://localhost:8080/"
        },
        "id": "t25Zn7P0d8KI",
        "outputId": "1ea3eb96-24a0-4713-e44c-15a5ec56b2a2"
      },
      "source": [
        "width = float(input('가로입력 : '))\n",
        "height = float(input('세로입력 : '))\n",
        "\n",
        "area = width * height\n",
        "\n",
        "if width == height:\n",
        "  print(f'정사각형의 넓이 : {area}')\n",
        "else :\n",
        "  print(f'직사각형의 넓이 : {area}')"
      ],
      "execution_count": null,
      "outputs": [
        {
          "output_type": "stream",
          "text": [
            "가로입력 : 3.3\n",
            "세로입력 : 5.5\n",
            "직사각형의 넓이 : 18.15\n"
          ],
          "name": "stdout"
        }
      ]
    },
    {
      "cell_type": "code",
      "metadata": {
        "id": "AbWiG7qcfEJ3"
      },
      "source": [
        "path = '/content/drive/My Drive/박상인/'\n",
        "\n",
        "f = open(path+ 'test.txt', 'w')\n",
        "\n",
        "f.write('안녕하세요 전기과 친구들!!!')\n",
        "\n",
        "f.close()"
      ],
      "execution_count": 28,
      "outputs": []
    },
    {
      "cell_type": "code",
      "metadata": {
        "colab": {
          "base_uri": "https://localhost:8080/",
          "height": 35
        },
        "id": "b1d2Bmdyigwo",
        "outputId": "274deb73-77c4-4a03-b737-b2ed1bb47645"
      },
      "source": [
        "f = open('나의 다짐.txt', 'r')\n",
        "\n",
        "data = f.readline()\n",
        "\n",
        "f.close()\n",
        "data"
      ],
      "execution_count": 30,
      "outputs": [
        {
          "output_type": "execute_result",
          "data": {
            "application/vnd.google.colaboratory.intrinsic+json": {
              "type": "string"
            },
            "text/plain": [
              "'21407 박상인\\n'"
            ]
          },
          "metadata": {
            "tags": []
          },
          "execution_count": 30
        }
      ]
    },
    {
      "cell_type": "code",
      "metadata": {
        "colab": {
          "base_uri": "https://localhost:8080/"
        },
        "id": "_me2-6K9kT8V",
        "outputId": "1d4ad270-f3b4-40de-9b54-9c43504d5af6"
      },
      "source": [
        "fp = open('지역평균기온.txt', 'r')\n",
        "\n",
        "data = fp.read()\n",
        "fp.close()\n",
        "print(data)"
      ],
      "execution_count": 31,
      "outputs": [
        {
          "output_type": "stream",
          "text": [
            "서울,20\n",
            "부산,26\n",
            "대구,24\n",
            "인천,24\n",
            "광주,25\n",
            "대전,22\n",
            "울산,26\n",
            "세종,23\n",
            "경기,24\n",
            "강원,23\n",
            "충북,26\n",
            "충남,22\n",
            "전북,24\n",
            "전남,23\n",
            "경북,28\n",
            "경남,29\n",
            "제주,26\n"
          ],
          "name": "stdout"
        }
      ]
    },
    {
      "cell_type": "code",
      "metadata": {
        "colab": {
          "base_uri": "https://localhost:8080/"
        },
        "id": "ApMrHEb8neyC",
        "outputId": "4fbc2d77-5bc7-4a62-e82a-1cf4ed612ccf"
      },
      "source": [
        "fp = open('지역평균기온.txt', 'r')\n",
        "\n",
        "data = fp.readlines()\n",
        "fp.close()\n",
        "data"
      ],
      "execution_count": 35,
      "outputs": [
        {
          "output_type": "execute_result",
          "data": {
            "text/plain": [
              "['서울,20\\n',\n",
              " '부산,26\\n',\n",
              " '대구,24\\n',\n",
              " '인천,24\\n',\n",
              " '광주,25\\n',\n",
              " '대전,22\\n',\n",
              " '울산,26\\n',\n",
              " '세종,23\\n',\n",
              " '경기,24\\n',\n",
              " '강원,23\\n',\n",
              " '충북,26\\n',\n",
              " '충남,22\\n',\n",
              " '전북,24\\n',\n",
              " '전남,23\\n',\n",
              " '경북,28\\n',\n",
              " '경남,29\\n',\n",
              " '제주,26']"
            ]
          },
          "metadata": {
            "tags": []
          },
          "execution_count": 35
        }
      ]
    },
    {
      "cell_type": "code",
      "metadata": {
        "colab": {
          "base_uri": "https://localhost:8080/",
          "height": 391
        },
        "id": "RWUsH1yTntxh",
        "outputId": "00830e70-be8f-43ff-a137-0118d35ee262"
      },
      "source": [
        "fp = open('지역평균기온.txt', 'r')\n",
        "data = fp.readlines()\n",
        "fp.close()\n",
        "\n",
        "dt = {}\n",
        "\n",
        "for line in data:\n",
        "  line = line.replace('\\n', '')\n",
        "  items = line.split(',')\n",
        "  dt[items[0]]=items[1]\n",
        "\n",
        "for line in data:\n",
        "  line = line.replace('\\n', '')\n",
        "  items = line.split(',')\n",
        "  dt[items[0]]=int(items[1])\n",
        "print(dt)\n",
        "print()\n",
        "\n",
        "\n",
        "import matplotlib.pyplot as plt\n",
        "import warnings\n",
        "warnings.filterwarnings('ignore')\n",
        "\n",
        "plt.rc('font', family='NanumBarunGothic')\n",
        "plt.style.use('ggplot')\n",
        "\n",
        "plt.figure(figsize=(10,5))\n",
        "\n",
        "area = list(dt.keys())\n",
        "temp = list(dt.values())\n",
        "plt.plot(area, temp, '--', color='green')\n",
        "plt.scatter(area, temp, c='navy')\n",
        "plt.xticks(rotation=0)\n",
        "plt.title('지역평균기온')\n",
        "plt.show()"
      ],
      "execution_count": 50,
      "outputs": [
        {
          "output_type": "stream",
          "text": [
            "{'서울': 20, '부산': 26, '대구': 24, '인천': 24, '광주': 25, '대전': 22, '울산': 26, '세종': 23, '경기': 24, '강원': 23, '충북': 26, '충남': 22, '전북': 24, '전남': 23, '경북': 28, '경남': 29, '제주': 26}\n",
            "\n"
          ],
          "name": "stdout"
        },
        {
          "output_type": "display_data",
          "data": {
            "image/png": "[encoded data removed]",
            "text/plain": [
              "<Figure size 720x360 with 1 Axes>"
            ]
          },
          "metadata": {
            "tags": []
          }
        }
      ]
    },
    {
      "cell_type": "code",
      "metadata": {
        "colab": {
          "base_uri": "https://localhost:8080/"
        },
        "id": "pqynqtaOolwR",
        "outputId": "673ac135-1643-462c-f9e9-c86e24a65aa4"
      },
      "source": [
        "dt"
      ],
      "execution_count": 14,
      "outputs": [
        {
          "output_type": "execute_result",
          "data": {
            "text/plain": [
              "{'강원': '23',\n",
              " '경기': '24',\n",
              " '경남': '29',\n",
              " '경북': '28',\n",
              " '광주': '25',\n",
              " '대구': '24',\n",
              " '대전': '22',\n",
              " '부산': '26',\n",
              " '서울': '20',\n",
              " '세종': '23',\n",
              " '울산': '26',\n",
              " '인천': '24',\n",
              " '전남': '23',\n",
              " '전북': '24',\n",
              " '제주': '26',\n",
              " '충남': '22',\n",
              " '충북': '26'}"
            ]
          },
          "metadata": {
            "tags": []
          },
          "execution_count": 14
        }
      ]
    },
    {
      "cell_type": "code",
      "metadata": {
        "colab": {
          "base_uri": "https://localhost:8080/"
        },
        "id": "9XxyFdF-ooPh",
        "outputId": "fe8f2aa5-2bd1-4ecb-ce3a-e135f7e4aa2e"
      },
      "source": [
        "!sudo apt-get install -y fonts-nanum\n",
        "!sudo fc-cache -fv\n",
        "!rm ~/.cache/matplotlib -rf"
      ],
      "execution_count": 15,
      "outputs": [
        {
          "output_type": "stream",
          "text": [
            "Reading package lists... Done\n",
            "Building dependency tree       \n",
            "Reading state information... Done\n",
            "fonts-nanum is already the newest version (20170925-1).\n",
            "The following package was automatically installed and is no longer required:\n",
            "  libnvidia-common-460\n",
            "Use 'sudo apt autoremove' to remove it.\n",
            "0 upgraded, 0 newly installed, 0 to remove and 34 not upgraded.\n",
            "/usr/share/fonts: caching, new cache contents: 0 fonts, 1 dirs\n",
            "/usr/share/fonts/truetype: caching, new cache contents: 0 fonts, 3 dirs\n",
            "/usr/share/fonts/truetype/humor-sans: caching, new cache contents: 1 fonts, 0 dirs\n",
            "/usr/share/fonts/truetype/liberation: caching, new cache contents: 16 fonts, 0 dirs\n",
            "/usr/share/fonts/truetype/nanum: caching, new cache contents: 10 fonts, 0 dirs\n",
            "/usr/local/share/fonts: caching, new cache contents: 0 fonts, 0 dirs\n",
            "/root/.local/share/fonts: skipping, no such directory\n",
            "/root/.fonts: skipping, no such directory\n",
            "/var/cache/fontconfig: cleaning cache directory\n",
            "/root/.cache/fontconfig: not cleaning non-existent cache directory\n",
            "/root/.fontconfig: not cleaning non-existent cache directory\n",
            "fc-cache: succeeded\n"
          ],
          "name": "stdout"
        }
      ]
    },
    {
      "cell_type": "code",
      "metadata": {
        "colab": {
          "base_uri": "https://localhost:8080/",
          "height": 169
        },
        "id": "G5R7pWuEqLoP",
        "outputId": "b4c815c7-14d2-4ac2-b50b-8f9bebef5e74"
      },
      "source": [
        ""
      ],
      "execution_count": 1,
      "outputs": [
        {
          "output_type": "error",
          "ename": "NameError",
          "evalue": "ignored",
          "traceback": [
            "\u001b[0;31m---------------------------------------------------------------------------\u001b[0m",
            "\u001b[0;31mNameError\u001b[0m                                 Traceback (most recent call last)",
            "\u001b[0;32m<ipython-input-1-8d0209521f54>\u001b[0m in \u001b[0;36m<module>\u001b[0;34m()\u001b[0m\n\u001b[0;32m----> 1\u001b[0;31m \u001b[0mprint\u001b[0m\u001b[0;34m(\u001b[0m\u001b[0mdt\u001b[0m\u001b[0;34m)\u001b[0m\u001b[0;34m\u001b[0m\u001b[0;34m\u001b[0m\u001b[0m\n\u001b[0m",
            "\u001b[0;31mNameError\u001b[0m: name 'dt' is not defined"
          ]
        }
      ]
    },
    {
      "cell_type": "code",
      "metadata": {
        "id": "h4cMQVOcqfGO"
      },
      "source": [
        ""
      ],
      "execution_count": null,
      "outputs": []
    }
  ]
}