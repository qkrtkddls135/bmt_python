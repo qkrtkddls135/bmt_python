{
  "nbformat": 4,
  "nbformat_minor": 0,
  "metadata": {
    "colab": {
      "name": "21407박상인_과제제출1.ipynb",
      "provenance": [],
      "collapsed_sections": [],
      "authorship_tag": "ABX9TyOVh3loQr/kTv26pM16zeZB",
      "include_colab_link": true
    },
    "kernelspec": {
      "name": "python3",
      "display_name": "Python 3"
    }
  },
  "cells": [
    {
      "cell_type": "markdown",
      "metadata": {
        "id": "view-in-github",
        "colab_type": "text"
      },
      "source": [
        "<a href=\"https://colab.research.google.com/github/qkrtkddls135/bmt_python/blob/main/21407%EB%B0%95%EC%83%81%EC%9D%B8_%EA%B3%BC%EC%A0%9C%EC%A0%9C%EC%B6%9C1.ipynb\" target=\"_parent\"><img src=\"https://colab.research.google.com/assets/colab-badge.svg\" alt=\"Open In Colab\"/></a>"
      ]
    },
    {
      "cell_type": "code",
      "metadata": {
        "id": "TA28BIiiUsnh"
      },
      "source": [
        "a = 1"
      ],
      "execution_count": 3,
      "outputs": []
    },
    {
      "cell_type": "code",
      "metadata": {
        "id": "5lGor9YoVB7E"
      },
      "source": [
        "b = 3"
      ],
      "execution_count": 4,
      "outputs": []
    },
    {
      "cell_type": "code",
      "metadata": {
        "colab": {
          "base_uri": "https://localhost:8080/"
        },
        "id": "NjyoMDwlVIao",
        "outputId": "065dd5a0-c03d-44a6-d6ff-3f5906c72ade"
      },
      "source": [
        "a + b"
      ],
      "execution_count": 7,
      "outputs": [
        {
          "output_type": "execute_result",
          "data": {
            "text/plain": [
              "4"
            ]
          },
          "metadata": {
            "tags": []
          },
          "execution_count": 7
        }
      ]
    },
    {
      "cell_type": "code",
      "metadata": {
        "colab": {
          "base_uri": "https://localhost:8080/"
        },
        "id": "B2OEWblRZz4k",
        "outputId": "fe27a049-a3f3-46a1-94ab-a93b0e9895a6"
      },
      "source": [
        "print('프로그래밍 수업이 넘넘 재미나요.')"
      ],
      "execution_count": 8,
      "outputs": [
        {
          "output_type": "stream",
          "text": [
            "프로그래밍 수업이 넘넘 재미나요.\n"
          ],
          "name": "stdout"
        }
      ]
    }
  ]
}