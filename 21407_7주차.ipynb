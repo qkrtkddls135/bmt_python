{
  "nbformat": 4,
  "nbformat_minor": 0,
  "metadata": {
    "colab": {
      "name": "21407_7주차.ipynb",
      "provenance": [],
      "collapsed_sections": [],
      "authorship_tag": "ABX9TyPTk9FLBbiXv5vzNqtbWPHu",
      "include_colab_link": true
    },
    "kernelspec": {
      "name": "python3",
      "display_name": "Python 3"
    },
    "language_info": {
      "name": "python"
    }
  },
  "cells": [
    {
      "cell_type": "markdown",
      "metadata": {
        "id": "view-in-github",
        "colab_type": "text"
      },
      "source": [
        "<a href=\"https://colab.research.google.com/github/qkrtkddls135/bmt_python/blob/main/21407_7%EC%A3%BC%EC%B0%A8.ipynb\" target=\"_parent\"><img src=\"https://colab.research.google.com/assets/colab-badge.svg\" alt=\"Open In Colab\"/></a>"
      ]
    },
    {
      "cell_type": "code",
      "metadata": {
        "id": "nEBfhow2WQ7A"
      },
      "source": [
        "xlist = range(10)"
      ],
      "execution_count": 4,
      "outputs": []
    },
    {
      "cell_type": "code",
      "metadata": {
        "colab": {
          "base_uri": "https://localhost:8080/"
        },
        "id": "kN3gmToxezfk",
        "outputId": "050613b1-2221-4e05-a3f4-aaec1d10d564"
      },
      "source": [
        "list(xlist)"
      ],
      "execution_count": 5,
      "outputs": [
        {
          "output_type": "execute_result",
          "data": {
            "text/plain": [
              "[0, 1, 2, 3, 4, 5, 6, 7, 8, 9]"
            ]
          },
          "metadata": {
            "tags": []
          },
          "execution_count": 5
        }
      ]
    },
    {
      "cell_type": "code",
      "metadata": {
        "colab": {
          "base_uri": "https://localhost:8080/"
        },
        "id": "3EqJju7LfAJx",
        "outputId": "5207497d-ee50-4abc-a5f2-9a19c29ff73a"
      },
      "source": [
        "for item in xlist:\n",
        "  print(item, end=' ')"
      ],
      "execution_count": 10,
      "outputs": [
        {
          "output_type": "stream",
          "text": [
            "0 1 2 3 4 5 6 7 8 9 "
          ],
          "name": "stdout"
        }
      ]
    },
    {
      "cell_type": "code",
      "metadata": {
        "colab": {
          "base_uri": "https://localhost:8080/"
        },
        "id": "Oou7nbOafDSR",
        "outputId": "ee594cd6-c30d-4023-ec84-21cf46a5bbd0"
      },
      "source": [
        "for item in list(range(5)):\n",
        "  print(item, end = ' ')"
      ],
      "execution_count": 11,
      "outputs": [
        {
          "output_type": "stream",
          "text": [
            "0 1 2 3 4 "
          ],
          "name": "stdout"
        }
      ]
    },
    {
      "cell_type": "code",
      "metadata": {
        "colab": {
          "base_uri": "https://localhost:8080/"
        },
        "id": "wOsZ3eVafc_g",
        "outputId": "e06c0e80-30b3-4d9c-8d68-bab1586cf3c5"
      },
      "source": [
        "for item in range(5):\n",
        "  print(item, end = ' ')"
      ],
      "execution_count": 13,
      "outputs": [
        {
          "output_type": "stream",
          "text": [
            "0 1 2 3 4 "
          ],
          "name": "stdout"
        }
      ]
    },
    {
      "cell_type": "code",
      "metadata": {
        "id": "hERadlwnfl_A"
      },
      "source": [
        "xlist = ['1', '2']\n",
        "xlist = [int(item) for item in xlist]"
      ],
      "execution_count": 18,
      "outputs": []
    },
    {
      "cell_type": "code",
      "metadata": {
        "colab": {
          "base_uri": "https://localhost:8080/"
        },
        "id": "54Yw02OqmZI0",
        "outputId": "a952e5f5-04fa-492b-d7ba-8e845f0428c1"
      },
      "source": [
        "print(xlist)"
      ],
      "execution_count": 19,
      "outputs": [
        {
          "output_type": "stream",
          "text": [
            "[1, 2]\n"
          ],
          "name": "stdout"
        }
      ]
    },
    {
      "cell_type": "code",
      "metadata": {
        "colab": {
          "base_uri": "https://localhost:8080/"
        },
        "id": "rBOnT843mhgM",
        "outputId": "303352bb-a821-4a2e-81f8-1666e037461b"
      },
      "source": [
        "i = 1\n",
        "\n",
        "while i <= 5:\n",
        "  print(i)\n",
        "  i = i + 1\n"
      ],
      "execution_count": 21,
      "outputs": [
        {
          "output_type": "stream",
          "text": [
            "1\n",
            "2\n",
            "3\n",
            "4\n",
            "5\n"
          ],
          "name": "stdout"
        }
      ]
    },
    {
      "cell_type": "code",
      "metadata": {
        "colab": {
          "base_uri": "https://localhost:8080/"
        },
        "id": "hxdG-jmdm2rB",
        "outputId": "cd87630b-ccfd-44bd-b7e9-f8cccb2947c3"
      },
      "source": [
        "i = 0\n",
        "\n",
        "while i <=5:\n",
        "  i = i + 1\n",
        "  if i == 2:\n",
        "    continue\n",
        "\n",
        "  print(i)\n",
        "  if i == 4:\n",
        "    break"
      ],
      "execution_count": 22,
      "outputs": [
        {
          "output_type": "stream",
          "text": [
            "1\n",
            "3\n",
            "4\n"
          ],
          "name": "stdout"
        }
      ]
    },
    {
      "cell_type": "code",
      "metadata": {
        "colab": {
          "base_uri": "https://localhost:8080/",
          "height": 134
        },
        "id": "_pWDs_bpoLvL",
        "outputId": "791a5cad-c181-449b-d4ce-a3efd078496a"
      },
      "source": [
        "lst_even = list()\n",
        "lst_odd = []\n",
        "\n",
        "for i in range(5):\n",
        "  num = int(input('숫자 입력 : '))\n",
        "\n",
        "  if num % 2 == 0 :\n",
        "    lst_even.append(num)\n",
        "  else :\n",
        "    lst_odd.append(num)\n",
        "\n",
        "print(f'짝수 :' {lst_even})\n",
        "print(f'홀수:' {lst_odd})"
      ],
      "execution_count": 30,
      "outputs": [
        {
          "output_type": "error",
          "ename": "SyntaxError",
          "evalue": "ignored",
          "traceback": [
            "\u001b[0;36m  File \u001b[0;32m\"<ipython-input-30-87fb4344caaf>\"\u001b[0;36m, line \u001b[0;32m12\u001b[0m\n\u001b[0;31m    print(f'짝수 :' {lst_even})\u001b[0m\n\u001b[0m                  ^\u001b[0m\n\u001b[0;31mSyntaxError\u001b[0m\u001b[0;31m:\u001b[0m invalid syntax\n"
          ]
        }
      ]
    },
    {
      "cell_type": "code",
      "metadata": {
        "colab": {
          "base_uri": "https://localhost:8080/"
        },
        "id": "qe17qgu1pRwa",
        "outputId": "bd6f8cbd-a438-40d0-fb06-856ad36fad53"
      },
      "source": [
        "lst_even"
      ],
      "execution_count": 24,
      "outputs": [
        {
          "output_type": "execute_result",
          "data": {
            "text/plain": [
              "[]"
            ]
          },
          "metadata": {
            "tags": []
          },
          "execution_count": 24
        }
      ]
    },
    {
      "cell_type": "code",
      "metadata": {
        "colab": {
          "base_uri": "https://localhost:8080/"
        },
        "id": "tlf7AD-0pS_6",
        "outputId": "dbb693b9-ec92-4c7b-d230-3770e1fd3259"
      },
      "source": [
        "lst_odd"
      ],
      "execution_count": 25,
      "outputs": [
        {
          "output_type": "execute_result",
          "data": {
            "text/plain": [
              "[]"
            ]
          },
          "metadata": {
            "tags": []
          },
          "execution_count": 25
        }
      ]
    },
    {
      "cell_type": "code",
      "metadata": {
        "id": "frUWmz9YpU36"
      },
      "source": [
        "area = { '서울시':57, '부산시':62, '대구시':59,\n",
        "         '인천시':59, '강화군':58, '서해5도':64,\n",
        "         '광주시':62, '대전시':60, '울산시':53,\n",
        "         '세종시':58 }\n",
        "\n",
        "report = { '위험':'설사, 구토 등 식중독 의심 증상이 있으면 의료기관을 방문하여 의사 지시에 따름',\n",
        "           '경고':'조리도구는 세척, 소독 등을 거쳐 세균 오염을 방지하고 유통기한, 보관 방법 등을 확인하여 음식물 조리, 보관에 각별히 주의하여야 함',\n",
        "           '주의':'조리 음식은 중심부까지 75도(어패류 85도)로 1분 이상 완전히 익히고 외부로 운반할 때에는 가급적 아이스박스 등을 이용하여 10도 이하에서 보관 및 운반',\n",
        "           '관심':'화장실 사용 후, 귀가 후, 조리 전에 손 씻기를 생활화'\n",
        "          }"
      ],
      "execution_count": 31,
      "outputs": []
    },
    {
      "cell_type": "code",
      "metadata": {
        "colab": {
          "base_uri": "https://localhost:8080/"
        },
        "id": "d2BkkyCurN1w",
        "outputId": "4c72edcc-aea1-461c-a834-62984099f88f"
      },
      "source": [
        "areashow = {}\n",
        "\n",
        "for key, value in area.items():\n",
        "  if value >= 86: check = '위험'\n",
        "  elif value >= 71: check = '경고'\n",
        "  elif value >= 55: check = '주의'\n",
        "  else : check = '관심'\n",
        "\n",
        "  areashow[key] = check\n",
        "\n",
        "print(areashow)\n",
        "print('지역목록', list(area.keys()))\n",
        "indata = input('지역목록의 지역을 입력하세요 : ')\n",
        "print(f'{indata} : {area[indata]} {areashow[indata]} \\n {report[areashow[indata]]}')"
      ],
      "execution_count": 41,
      "outputs": [
        {
          "output_type": "stream",
          "text": [
            "{'서울시': '주의', '부산시': '주의', '대구시': '주의', '인천시': '주의', '강화군': '주의', '서해5도': '주의', '광주시': '주의', '대전시': '주의', '울산시': '관심', '세종시': '주의'}\n",
            "지역목록 ['서울시', '부산시', '대구시', '인천시', '강화군', '서해5도', '광주시', '대전시', '울산시', '세종시']\n",
            "지역목록의 지역을 입력하세요 : 부산시\n",
            "부산시 : 62 주의 \n",
            " 조리 음식은 중심부까지 75도(어패류 85도)로 1분 이상 완전히 익히고 외부로 운반할 때에는 가급적 아이스박스 등을 이용하여 10도 이하에서 보관 및 운반\n"
          ],
          "name": "stdout"
        }
      ]
    },
    {
      "cell_type": "code",
      "metadata": {
        "id": "Q4VMYzUBrPfJ"
      },
      "source": [
        ""
      ],
      "execution_count": null,
      "outputs": []
    },
    {
      "cell_type": "code",
      "metadata": {
        "id": "qZewpL9Str_J"
      },
      "source": [
        ""
      ],
      "execution_count": null,
      "outputs": []
    }
  ]
}